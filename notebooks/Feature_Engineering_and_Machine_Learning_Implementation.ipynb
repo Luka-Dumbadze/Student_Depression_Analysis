{
 "cells": [
  {
   "cell_type": "markdown",
   "metadata": {},
   "source": [
    "Feature Engineering"
   ]
  },
  {
   "cell_type": "code",
   "execution_count": 77,
   "metadata": {
    "ExecuteTime": {
     "end_time": "2025-01-11T20:14:44.249539Z",
     "start_time": "2025-01-11T20:14:44.231073Z"
    }
   },
   "outputs": [],
   "source": [
    "import pandas as pd"
   ]
  },
  {
   "cell_type": "code",
   "execution_count": 78,
   "metadata": {
    "ExecuteTime": {
     "end_time": "2025-01-11T20:14:44.417279Z",
     "start_time": "2025-01-11T20:14:44.322002Z"
    }
   },
   "outputs": [
    {
     "name": "stdout",
     "output_type": "stream",
     "text": [
      "   id  Gender   Age           City Profession  Academic Pressure  \\\n",
      "0   2    Male  33.0  Visakhapatnam    Student                5.0   \n",
      "1   8  Female  24.0      Bangalore    Student                2.0   \n",
      "2  26    Male  31.0       Srinagar    Student                3.0   \n",
      "3  30  Female  28.0       Varanasi    Student                3.0   \n",
      "4  32  Female  25.0         Jaipur    Student                4.0   \n",
      "\n",
      "   Work Pressure  CGPA  Study Satisfaction  Job Satisfaction  Sleep Duration  \\\n",
      "0            0.0  8.97                 2.0               0.0             2.0   \n",
      "1            0.0  5.90                 5.0               0.0             2.0   \n",
      "2            0.0  7.03                 5.0               0.0             1.0   \n",
      "3            0.0  5.59                 2.0               0.0             3.0   \n",
      "4            0.0  8.13                 3.0               0.0             2.0   \n",
      "\n",
      "  Dietary Habits   Degree Have you ever had suicidal thoughts ?  \\\n",
      "0        Healthy  B.Pharm                                   Yes   \n",
      "1       Moderate      BSc                                    No   \n",
      "2        Healthy       BA                                    No   \n",
      "3       Moderate      BCA                                   Yes   \n",
      "4       Moderate   M.Tech                                   Yes   \n",
      "\n",
      "   Work/Study Hours  Financial Stress Family History of Mental Illness  \\\n",
      "0               3.0               1.0                               No   \n",
      "1               3.0               2.0                              Yes   \n",
      "2               9.0               1.0                              Yes   \n",
      "3               4.0               5.0                              Yes   \n",
      "4               1.0               1.0                               No   \n",
      "\n",
      "   Depression  \n",
      "0           1  \n",
      "1           0  \n",
      "2           0  \n",
      "3           1  \n",
      "4           0  \n"
     ]
    }
   ],
   "source": [
    "\n",
    "\n",
    "# Correct file path\n",
    "data = pd.read_csv(\"/home/any1/Documents/I2_Data_Science/Final_Project/data/processed_v2_eda_student_depression.csv\")\n",
    "# Display the first few rows of the dataset\n",
    "print(data.head())\n"
   ]
  },
  {
   "cell_type": "code",
   "execution_count": 79,
   "metadata": {
    "ExecuteTime": {
     "end_time": "2025-01-11T20:14:44.456665Z",
     "start_time": "2025-01-11T20:14:44.427312Z"
    }
   },
   "outputs": [
    {
     "data": {
      "text/html": [
       "<div>\n",
       "<style scoped>\n",
       "    .dataframe tbody tr th:only-of-type {\n",
       "        vertical-align: middle;\n",
       "    }\n",
       "\n",
       "    .dataframe tbody tr th {\n",
       "        vertical-align: top;\n",
       "    }\n",
       "\n",
       "    .dataframe thead th {\n",
       "        text-align: right;\n",
       "    }\n",
       "</style>\n",
       "<table border=\"1\" class=\"dataframe\">\n",
       "  <thead>\n",
       "    <tr style=\"text-align: right;\">\n",
       "      <th></th>\n",
       "      <th>id</th>\n",
       "      <th>Gender</th>\n",
       "      <th>Age</th>\n",
       "      <th>City</th>\n",
       "      <th>Profession</th>\n",
       "      <th>Academic Pressure</th>\n",
       "      <th>Work Pressure</th>\n",
       "      <th>CGPA</th>\n",
       "      <th>Study Satisfaction</th>\n",
       "      <th>Job Satisfaction</th>\n",
       "      <th>Sleep Duration</th>\n",
       "      <th>Dietary Habits</th>\n",
       "      <th>Degree</th>\n",
       "      <th>Have you ever had suicidal thoughts ?</th>\n",
       "      <th>Work/Study Hours</th>\n",
       "      <th>Financial Stress</th>\n",
       "      <th>Family History of Mental Illness</th>\n",
       "      <th>Depression</th>\n",
       "    </tr>\n",
       "  </thead>\n",
       "  <tbody>\n",
       "    <tr>\n",
       "      <th>0</th>\n",
       "      <td>2</td>\n",
       "      <td>Male</td>\n",
       "      <td>33.0</td>\n",
       "      <td>Visakhapatnam</td>\n",
       "      <td>Student</td>\n",
       "      <td>5.0</td>\n",
       "      <td>0.0</td>\n",
       "      <td>8.97</td>\n",
       "      <td>2.0</td>\n",
       "      <td>0.0</td>\n",
       "      <td>2.0</td>\n",
       "      <td>Healthy</td>\n",
       "      <td>B.Pharm</td>\n",
       "      <td>Yes</td>\n",
       "      <td>3.0</td>\n",
       "      <td>1.0</td>\n",
       "      <td>No</td>\n",
       "      <td>1</td>\n",
       "    </tr>\n",
       "    <tr>\n",
       "      <th>1</th>\n",
       "      <td>8</td>\n",
       "      <td>Female</td>\n",
       "      <td>24.0</td>\n",
       "      <td>Bangalore</td>\n",
       "      <td>Student</td>\n",
       "      <td>2.0</td>\n",
       "      <td>0.0</td>\n",
       "      <td>5.90</td>\n",
       "      <td>5.0</td>\n",
       "      <td>0.0</td>\n",
       "      <td>2.0</td>\n",
       "      <td>Moderate</td>\n",
       "      <td>BSc</td>\n",
       "      <td>No</td>\n",
       "      <td>3.0</td>\n",
       "      <td>2.0</td>\n",
       "      <td>Yes</td>\n",
       "      <td>0</td>\n",
       "    </tr>\n",
       "    <tr>\n",
       "      <th>2</th>\n",
       "      <td>26</td>\n",
       "      <td>Male</td>\n",
       "      <td>31.0</td>\n",
       "      <td>Srinagar</td>\n",
       "      <td>Student</td>\n",
       "      <td>3.0</td>\n",
       "      <td>0.0</td>\n",
       "      <td>7.03</td>\n",
       "      <td>5.0</td>\n",
       "      <td>0.0</td>\n",
       "      <td>1.0</td>\n",
       "      <td>Healthy</td>\n",
       "      <td>BA</td>\n",
       "      <td>No</td>\n",
       "      <td>9.0</td>\n",
       "      <td>1.0</td>\n",
       "      <td>Yes</td>\n",
       "      <td>0</td>\n",
       "    </tr>\n",
       "    <tr>\n",
       "      <th>3</th>\n",
       "      <td>30</td>\n",
       "      <td>Female</td>\n",
       "      <td>28.0</td>\n",
       "      <td>Varanasi</td>\n",
       "      <td>Student</td>\n",
       "      <td>3.0</td>\n",
       "      <td>0.0</td>\n",
       "      <td>5.59</td>\n",
       "      <td>2.0</td>\n",
       "      <td>0.0</td>\n",
       "      <td>3.0</td>\n",
       "      <td>Moderate</td>\n",
       "      <td>BCA</td>\n",
       "      <td>Yes</td>\n",
       "      <td>4.0</td>\n",
       "      <td>5.0</td>\n",
       "      <td>Yes</td>\n",
       "      <td>1</td>\n",
       "    </tr>\n",
       "    <tr>\n",
       "      <th>4</th>\n",
       "      <td>32</td>\n",
       "      <td>Female</td>\n",
       "      <td>25.0</td>\n",
       "      <td>Jaipur</td>\n",
       "      <td>Student</td>\n",
       "      <td>4.0</td>\n",
       "      <td>0.0</td>\n",
       "      <td>8.13</td>\n",
       "      <td>3.0</td>\n",
       "      <td>0.0</td>\n",
       "      <td>2.0</td>\n",
       "      <td>Moderate</td>\n",
       "      <td>M.Tech</td>\n",
       "      <td>Yes</td>\n",
       "      <td>1.0</td>\n",
       "      <td>1.0</td>\n",
       "      <td>No</td>\n",
       "      <td>0</td>\n",
       "    </tr>\n",
       "  </tbody>\n",
       "</table>\n",
       "</div>"
      ],
      "text/plain": [
       "   id  Gender   Age           City Profession  Academic Pressure  \\\n",
       "0   2    Male  33.0  Visakhapatnam    Student                5.0   \n",
       "1   8  Female  24.0      Bangalore    Student                2.0   \n",
       "2  26    Male  31.0       Srinagar    Student                3.0   \n",
       "3  30  Female  28.0       Varanasi    Student                3.0   \n",
       "4  32  Female  25.0         Jaipur    Student                4.0   \n",
       "\n",
       "   Work Pressure  CGPA  Study Satisfaction  Job Satisfaction  Sleep Duration  \\\n",
       "0            0.0  8.97                 2.0               0.0             2.0   \n",
       "1            0.0  5.90                 5.0               0.0             2.0   \n",
       "2            0.0  7.03                 5.0               0.0             1.0   \n",
       "3            0.0  5.59                 2.0               0.0             3.0   \n",
       "4            0.0  8.13                 3.0               0.0             2.0   \n",
       "\n",
       "  Dietary Habits   Degree Have you ever had suicidal thoughts ?  \\\n",
       "0        Healthy  B.Pharm                                   Yes   \n",
       "1       Moderate      BSc                                    No   \n",
       "2        Healthy       BA                                    No   \n",
       "3       Moderate      BCA                                   Yes   \n",
       "4       Moderate   M.Tech                                   Yes   \n",
       "\n",
       "   Work/Study Hours  Financial Stress Family History of Mental Illness  \\\n",
       "0               3.0               1.0                               No   \n",
       "1               3.0               2.0                              Yes   \n",
       "2               9.0               1.0                              Yes   \n",
       "3               4.0               5.0                              Yes   \n",
       "4               1.0               1.0                               No   \n",
       "\n",
       "   Depression  \n",
       "0           1  \n",
       "1           0  \n",
       "2           0  \n",
       "3           1  \n",
       "4           0  "
      ]
     },
     "execution_count": 79,
     "metadata": {},
     "output_type": "execute_result"
    }
   ],
   "source": [
    "# Preview the data\n",
    "data.head()"
   ]
  },
  {
   "cell_type": "code",
   "execution_count": 80,
   "metadata": {
    "ExecuteTime": {
     "end_time": "2025-01-11T20:14:44.589935Z",
     "start_time": "2025-01-11T20:14:44.582547Z"
    }
   },
   "outputs": [],
   "source": [
    "# Create Total Pressure feature\n",
    "data['Total Pressure'] = data['Academic Pressure'] + data['Work Pressure']"
   ]
  },
  {
   "cell_type": "code",
   "execution_count": 81,
   "metadata": {
    "ExecuteTime": {
     "end_time": "2025-01-11T20:14:44.691061Z",
     "start_time": "2025-01-11T20:14:44.678919Z"
    }
   },
   "outputs": [],
   "source": [
    "# Bin CGPA into categories\n",
    "data['CGPA_Category'] = pd.cut(data['CGPA'], bins=[0, 5, 7, 10], labels=['Low', 'Medium', 'High'])"
   ]
  },
  {
   "cell_type": "code",
   "execution_count": 82,
   "metadata": {
    "ExecuteTime": {
     "end_time": "2025-01-11T20:14:44.856378Z",
     "start_time": "2025-01-11T20:14:44.841151Z"
    }
   },
   "outputs": [],
   "source": [
    "# Normalize CGPA\n",
    "from sklearn.preprocessing import MinMaxScaler\n",
    "scaler = MinMaxScaler()\n",
    "data['CGPA_normalized'] = scaler.fit_transform(data[['CGPA']])"
   ]
  },
  {
   "cell_type": "code",
   "execution_count": 83,
   "metadata": {
    "ExecuteTime": {
     "end_time": "2025-01-11T20:14:44.910658Z",
     "start_time": "2025-01-11T20:14:44.864919Z"
    }
   },
   "outputs": [],
   "source": [
    "from sklearn.preprocessing import LabelEncoder\n",
    "\n",
    "# Columns to encode\n",
    "categorical_columns = ['Gender', 'City', 'Profession', 'Dietary Habits', \n",
    "                       'Degree', 'Have you ever had suicidal thoughts ?', \n",
    "                       'Family History of Mental Illness']\n",
    "\n",
    "# Apply Label Encoding\n",
    "label_encoders = {}\n",
    "for col in categorical_columns:\n",
    "    le = LabelEncoder()\n",
    "    data[col] = le.fit_transform(data[col])\n",
    "    label_encoders[col] = le  # Save encoder for reverse mapping\n"
   ]
  },
  {
   "cell_type": "code",
   "execution_count": 84,
   "metadata": {
    "ExecuteTime": {
     "end_time": "2025-01-11T20:14:45.022877Z",
     "start_time": "2025-01-11T20:14:45.013441Z"
    }
   },
   "outputs": [],
   "source": [
    "# Identify important features using mutual information\n",
    "from sklearn.feature_selection import mutual_info_classif"
   ]
  },
  {
   "cell_type": "code",
   "execution_count": 85,
   "metadata": {
    "ExecuteTime": {
     "end_time": "2025-01-11T20:14:45.135635Z",
     "start_time": "2025-01-11T20:14:45.123600Z"
    }
   },
   "outputs": [],
   "source": [
    "X = data.drop(['Depression', 'id'], axis=1)\n",
    "y = data['Depression']"
   ]
  },
  {
   "cell_type": "code",
   "execution_count": 86,
   "metadata": {
    "ExecuteTime": {
     "end_time": "2025-01-11T20:14:45.376269Z",
     "start_time": "2025-01-11T20:14:45.366205Z"
    }
   },
   "outputs": [
    {
     "name": "stdout",
     "output_type": "stream",
     "text": [
      "Gender                                      int64\n",
      "Age                                       float64\n",
      "City                                        int64\n",
      "Profession                                  int64\n",
      "Academic Pressure                         float64\n",
      "Work Pressure                             float64\n",
      "CGPA                                      float64\n",
      "Study Satisfaction                        float64\n",
      "Job Satisfaction                          float64\n",
      "Sleep Duration                            float64\n",
      "Dietary Habits                              int64\n",
      "Degree                                      int64\n",
      "Have you ever had suicidal thoughts ?       int64\n",
      "Work/Study Hours                          float64\n",
      "Financial Stress                          float64\n",
      "Family History of Mental Illness            int64\n",
      "Total Pressure                            float64\n",
      "CGPA_Category                            category\n",
      "CGPA_normalized                           float64\n",
      "dtype: object\n"
     ]
    }
   ],
   "source": [
    "print(X.dtypes)\n"
   ]
  },
  {
   "cell_type": "code",
   "execution_count": 87,
   "metadata": {
    "ExecuteTime": {
     "end_time": "2025-01-11T20:14:45.539189Z",
     "start_time": "2025-01-11T20:14:45.520461Z"
    }
   },
   "outputs": [],
   "source": [
    "# One-hot encode categorical variables\n",
    "X_encoded = pd.get_dummies(X, drop_first=True)"
   ]
  },
  {
   "cell_type": "code",
   "execution_count": 88,
   "metadata": {
    "ExecuteTime": {
     "end_time": "2025-01-11T20:14:49.960549Z",
     "start_time": "2025-01-11T20:14:45.559472Z"
    }
   },
   "outputs": [
    {
     "ename": "ValueError",
     "evalue": "Input X contains NaN.",
     "output_type": "error",
     "traceback": [
      "\u001b[0;31m---------------------------------------------------------------------------\u001b[0m",
      "\u001b[0;31mValueError\u001b[0m                                Traceback (most recent call last)",
      "Cell \u001b[0;32mIn[88], line 2\u001b[0m\n\u001b[1;32m      1\u001b[0m \u001b[38;5;66;03m# Calculate feature importance\u001b[39;00m\n\u001b[0;32m----> 2\u001b[0m importance \u001b[38;5;241m=\u001b[39m \u001b[43mmutual_info_classif\u001b[49m\u001b[43m(\u001b[49m\u001b[43mX_encoded\u001b[49m\u001b[43m,\u001b[49m\u001b[43m \u001b[49m\u001b[43my\u001b[49m\u001b[43m)\u001b[49m\n\u001b[1;32m      3\u001b[0m feature_importance \u001b[38;5;241m=\u001b[39m pd\u001b[38;5;241m.\u001b[39mSeries(importance, index\u001b[38;5;241m=\u001b[39mX_encoded\u001b[38;5;241m.\u001b[39mcolumns)\n\u001b[1;32m      4\u001b[0m \u001b[38;5;28mprint\u001b[39m(feature_importance\u001b[38;5;241m.\u001b[39msort_values(ascending\u001b[38;5;241m=\u001b[39m\u001b[38;5;28;01mFalse\u001b[39;00m))\n",
      "File \u001b[0;32m~/.local/lib/python3.10/site-packages/sklearn/utils/_param_validation.py:216\u001b[0m, in \u001b[0;36mvalidate_params.<locals>.decorator.<locals>.wrapper\u001b[0;34m(*args, **kwargs)\u001b[0m\n\u001b[1;32m    210\u001b[0m \u001b[38;5;28;01mtry\u001b[39;00m:\n\u001b[1;32m    211\u001b[0m     \u001b[38;5;28;01mwith\u001b[39;00m config_context(\n\u001b[1;32m    212\u001b[0m         skip_parameter_validation\u001b[38;5;241m=\u001b[39m(\n\u001b[1;32m    213\u001b[0m             prefer_skip_nested_validation \u001b[38;5;129;01mor\u001b[39;00m global_skip_validation\n\u001b[1;32m    214\u001b[0m         )\n\u001b[1;32m    215\u001b[0m     ):\n\u001b[0;32m--> 216\u001b[0m         \u001b[38;5;28;01mreturn\u001b[39;00m \u001b[43mfunc\u001b[49m\u001b[43m(\u001b[49m\u001b[38;5;241;43m*\u001b[39;49m\u001b[43margs\u001b[49m\u001b[43m,\u001b[49m\u001b[43m \u001b[49m\u001b[38;5;241;43m*\u001b[39;49m\u001b[38;5;241;43m*\u001b[39;49m\u001b[43mkwargs\u001b[49m\u001b[43m)\u001b[49m\n\u001b[1;32m    217\u001b[0m \u001b[38;5;28;01mexcept\u001b[39;00m InvalidParameterError \u001b[38;5;28;01mas\u001b[39;00m e:\n\u001b[1;32m    218\u001b[0m     \u001b[38;5;66;03m# When the function is just a wrapper around an estimator, we allow\u001b[39;00m\n\u001b[1;32m    219\u001b[0m     \u001b[38;5;66;03m# the function to delegate validation to the estimator, but we replace\u001b[39;00m\n\u001b[1;32m    220\u001b[0m     \u001b[38;5;66;03m# the name of the estimator by the name of the function in the error\u001b[39;00m\n\u001b[1;32m    221\u001b[0m     \u001b[38;5;66;03m# message to avoid confusion.\u001b[39;00m\n\u001b[1;32m    222\u001b[0m     msg \u001b[38;5;241m=\u001b[39m re\u001b[38;5;241m.\u001b[39msub(\n\u001b[1;32m    223\u001b[0m         \u001b[38;5;124mr\u001b[39m\u001b[38;5;124m\"\u001b[39m\u001b[38;5;124mparameter of \u001b[39m\u001b[38;5;124m\\\u001b[39m\u001b[38;5;124mw+ must be\u001b[39m\u001b[38;5;124m\"\u001b[39m,\n\u001b[1;32m    224\u001b[0m         \u001b[38;5;124mf\u001b[39m\u001b[38;5;124m\"\u001b[39m\u001b[38;5;124mparameter of \u001b[39m\u001b[38;5;132;01m{\u001b[39;00mfunc\u001b[38;5;241m.\u001b[39m\u001b[38;5;18m__qualname__\u001b[39m\u001b[38;5;132;01m}\u001b[39;00m\u001b[38;5;124m must be\u001b[39m\u001b[38;5;124m\"\u001b[39m,\n\u001b[1;32m    225\u001b[0m         \u001b[38;5;28mstr\u001b[39m(e),\n\u001b[1;32m    226\u001b[0m     )\n",
      "File \u001b[0;32m~/.local/lib/python3.10/site-packages/sklearn/feature_selection/_mutual_info.py:571\u001b[0m, in \u001b[0;36mmutual_info_classif\u001b[0;34m(X, y, discrete_features, n_neighbors, copy, random_state, n_jobs)\u001b[0m\n\u001b[1;32m    475\u001b[0m \u001b[38;5;250m\u001b[39m\u001b[38;5;124;03m\"\"\"Estimate mutual information for a discrete target variable.\u001b[39;00m\n\u001b[1;32m    476\u001b[0m \n\u001b[1;32m    477\u001b[0m \u001b[38;5;124;03mMutual information (MI) [1]_ between two random variables is a non-negative\u001b[39;00m\n\u001b[0;32m   (...)\u001b[0m\n\u001b[1;32m    568\u001b[0m \u001b[38;5;124;03m       0.     , 0.     , 0.     , 0.      , 0.        ])\u001b[39;00m\n\u001b[1;32m    569\u001b[0m \u001b[38;5;124;03m\"\"\"\u001b[39;00m\n\u001b[1;32m    570\u001b[0m check_classification_targets(y)\n\u001b[0;32m--> 571\u001b[0m \u001b[38;5;28;01mreturn\u001b[39;00m \u001b[43m_estimate_mi\u001b[49m\u001b[43m(\u001b[49m\n\u001b[1;32m    572\u001b[0m \u001b[43m    \u001b[49m\u001b[43mX\u001b[49m\u001b[43m,\u001b[49m\n\u001b[1;32m    573\u001b[0m \u001b[43m    \u001b[49m\u001b[43my\u001b[49m\u001b[43m,\u001b[49m\n\u001b[1;32m    574\u001b[0m \u001b[43m    \u001b[49m\u001b[43mdiscrete_features\u001b[49m\u001b[38;5;241;43m=\u001b[39;49m\u001b[43mdiscrete_features\u001b[49m\u001b[43m,\u001b[49m\n\u001b[1;32m    575\u001b[0m \u001b[43m    \u001b[49m\u001b[43mdiscrete_target\u001b[49m\u001b[38;5;241;43m=\u001b[39;49m\u001b[38;5;28;43;01mTrue\u001b[39;49;00m\u001b[43m,\u001b[49m\n\u001b[1;32m    576\u001b[0m \u001b[43m    \u001b[49m\u001b[43mn_neighbors\u001b[49m\u001b[38;5;241;43m=\u001b[39;49m\u001b[43mn_neighbors\u001b[49m\u001b[43m,\u001b[49m\n\u001b[1;32m    577\u001b[0m \u001b[43m    \u001b[49m\u001b[43mcopy\u001b[49m\u001b[38;5;241;43m=\u001b[39;49m\u001b[43mcopy\u001b[49m\u001b[43m,\u001b[49m\n\u001b[1;32m    578\u001b[0m \u001b[43m    \u001b[49m\u001b[43mrandom_state\u001b[49m\u001b[38;5;241;43m=\u001b[39;49m\u001b[43mrandom_state\u001b[49m\u001b[43m,\u001b[49m\n\u001b[1;32m    579\u001b[0m \u001b[43m    \u001b[49m\u001b[43mn_jobs\u001b[49m\u001b[38;5;241;43m=\u001b[39;49m\u001b[43mn_jobs\u001b[49m\u001b[43m,\u001b[49m\n\u001b[1;32m    580\u001b[0m \u001b[43m\u001b[49m\u001b[43m)\u001b[49m\n",
      "File \u001b[0;32m~/.local/lib/python3.10/site-packages/sklearn/feature_selection/_mutual_info.py:271\u001b[0m, in \u001b[0;36m_estimate_mi\u001b[0;34m(X, y, discrete_features, discrete_target, n_neighbors, copy, random_state, n_jobs)\u001b[0m\n\u001b[1;32m    202\u001b[0m \u001b[38;5;28;01mdef\u001b[39;00m \u001b[38;5;21m_estimate_mi\u001b[39m(\n\u001b[1;32m    203\u001b[0m     X,\n\u001b[1;32m    204\u001b[0m     y,\n\u001b[0;32m   (...)\u001b[0m\n\u001b[1;32m    211\u001b[0m     n_jobs\u001b[38;5;241m=\u001b[39m\u001b[38;5;28;01mNone\u001b[39;00m,\n\u001b[1;32m    212\u001b[0m ):\n\u001b[1;32m    213\u001b[0m \u001b[38;5;250m    \u001b[39m\u001b[38;5;124;03m\"\"\"Estimate mutual information between the features and the target.\u001b[39;00m\n\u001b[1;32m    214\u001b[0m \n\u001b[1;32m    215\u001b[0m \u001b[38;5;124;03m    Parameters\u001b[39;00m\n\u001b[0;32m   (...)\u001b[0m\n\u001b[1;32m    269\u001b[0m \u001b[38;5;124;03m           Data Sets\". PLoS ONE 9(2), 2014.\u001b[39;00m\n\u001b[1;32m    270\u001b[0m \u001b[38;5;124;03m    \"\"\"\u001b[39;00m\n\u001b[0;32m--> 271\u001b[0m     X, y \u001b[38;5;241m=\u001b[39m \u001b[43mcheck_X_y\u001b[49m\u001b[43m(\u001b[49m\u001b[43mX\u001b[49m\u001b[43m,\u001b[49m\u001b[43m \u001b[49m\u001b[43my\u001b[49m\u001b[43m,\u001b[49m\u001b[43m \u001b[49m\u001b[43maccept_sparse\u001b[49m\u001b[38;5;241;43m=\u001b[39;49m\u001b[38;5;124;43m\"\u001b[39;49m\u001b[38;5;124;43mcsc\u001b[39;49m\u001b[38;5;124;43m\"\u001b[39;49m\u001b[43m,\u001b[49m\u001b[43m \u001b[49m\u001b[43my_numeric\u001b[49m\u001b[38;5;241;43m=\u001b[39;49m\u001b[38;5;129;43;01mnot\u001b[39;49;00m\u001b[43m \u001b[49m\u001b[43mdiscrete_target\u001b[49m\u001b[43m)\u001b[49m\n\u001b[1;32m    272\u001b[0m     n_samples, n_features \u001b[38;5;241m=\u001b[39m X\u001b[38;5;241m.\u001b[39mshape\n\u001b[1;32m    274\u001b[0m     \u001b[38;5;28;01mif\u001b[39;00m \u001b[38;5;28misinstance\u001b[39m(discrete_features, (\u001b[38;5;28mstr\u001b[39m, \u001b[38;5;28mbool\u001b[39m)):\n",
      "File \u001b[0;32m~/.local/lib/python3.10/site-packages/sklearn/utils/validation.py:1370\u001b[0m, in \u001b[0;36mcheck_X_y\u001b[0;34m(X, y, accept_sparse, accept_large_sparse, dtype, order, copy, force_writeable, force_all_finite, ensure_all_finite, ensure_2d, allow_nd, multi_output, ensure_min_samples, ensure_min_features, y_numeric, estimator)\u001b[0m\n\u001b[1;32m   1364\u001b[0m     \u001b[38;5;28;01mraise\u001b[39;00m \u001b[38;5;167;01mValueError\u001b[39;00m(\n\u001b[1;32m   1365\u001b[0m         \u001b[38;5;124mf\u001b[39m\u001b[38;5;124m\"\u001b[39m\u001b[38;5;132;01m{\u001b[39;00mestimator_name\u001b[38;5;132;01m}\u001b[39;00m\u001b[38;5;124m requires y to be passed, but the target y is None\u001b[39m\u001b[38;5;124m\"\u001b[39m\n\u001b[1;32m   1366\u001b[0m     )\n\u001b[1;32m   1368\u001b[0m ensure_all_finite \u001b[38;5;241m=\u001b[39m _deprecate_force_all_finite(force_all_finite, ensure_all_finite)\n\u001b[0;32m-> 1370\u001b[0m X \u001b[38;5;241m=\u001b[39m \u001b[43mcheck_array\u001b[49m\u001b[43m(\u001b[49m\n\u001b[1;32m   1371\u001b[0m \u001b[43m    \u001b[49m\u001b[43mX\u001b[49m\u001b[43m,\u001b[49m\n\u001b[1;32m   1372\u001b[0m \u001b[43m    \u001b[49m\u001b[43maccept_sparse\u001b[49m\u001b[38;5;241;43m=\u001b[39;49m\u001b[43maccept_sparse\u001b[49m\u001b[43m,\u001b[49m\n\u001b[1;32m   1373\u001b[0m \u001b[43m    \u001b[49m\u001b[43maccept_large_sparse\u001b[49m\u001b[38;5;241;43m=\u001b[39;49m\u001b[43maccept_large_sparse\u001b[49m\u001b[43m,\u001b[49m\n\u001b[1;32m   1374\u001b[0m \u001b[43m    \u001b[49m\u001b[43mdtype\u001b[49m\u001b[38;5;241;43m=\u001b[39;49m\u001b[43mdtype\u001b[49m\u001b[43m,\u001b[49m\n\u001b[1;32m   1375\u001b[0m \u001b[43m    \u001b[49m\u001b[43morder\u001b[49m\u001b[38;5;241;43m=\u001b[39;49m\u001b[43morder\u001b[49m\u001b[43m,\u001b[49m\n\u001b[1;32m   1376\u001b[0m \u001b[43m    \u001b[49m\u001b[43mcopy\u001b[49m\u001b[38;5;241;43m=\u001b[39;49m\u001b[43mcopy\u001b[49m\u001b[43m,\u001b[49m\n\u001b[1;32m   1377\u001b[0m \u001b[43m    \u001b[49m\u001b[43mforce_writeable\u001b[49m\u001b[38;5;241;43m=\u001b[39;49m\u001b[43mforce_writeable\u001b[49m\u001b[43m,\u001b[49m\n\u001b[1;32m   1378\u001b[0m \u001b[43m    \u001b[49m\u001b[43mensure_all_finite\u001b[49m\u001b[38;5;241;43m=\u001b[39;49m\u001b[43mensure_all_finite\u001b[49m\u001b[43m,\u001b[49m\n\u001b[1;32m   1379\u001b[0m \u001b[43m    \u001b[49m\u001b[43mensure_2d\u001b[49m\u001b[38;5;241;43m=\u001b[39;49m\u001b[43mensure_2d\u001b[49m\u001b[43m,\u001b[49m\n\u001b[1;32m   1380\u001b[0m \u001b[43m    \u001b[49m\u001b[43mallow_nd\u001b[49m\u001b[38;5;241;43m=\u001b[39;49m\u001b[43mallow_nd\u001b[49m\u001b[43m,\u001b[49m\n\u001b[1;32m   1381\u001b[0m \u001b[43m    \u001b[49m\u001b[43mensure_min_samples\u001b[49m\u001b[38;5;241;43m=\u001b[39;49m\u001b[43mensure_min_samples\u001b[49m\u001b[43m,\u001b[49m\n\u001b[1;32m   1382\u001b[0m \u001b[43m    \u001b[49m\u001b[43mensure_min_features\u001b[49m\u001b[38;5;241;43m=\u001b[39;49m\u001b[43mensure_min_features\u001b[49m\u001b[43m,\u001b[49m\n\u001b[1;32m   1383\u001b[0m \u001b[43m    \u001b[49m\u001b[43mestimator\u001b[49m\u001b[38;5;241;43m=\u001b[39;49m\u001b[43mestimator\u001b[49m\u001b[43m,\u001b[49m\n\u001b[1;32m   1384\u001b[0m \u001b[43m    \u001b[49m\u001b[43minput_name\u001b[49m\u001b[38;5;241;43m=\u001b[39;49m\u001b[38;5;124;43m\"\u001b[39;49m\u001b[38;5;124;43mX\u001b[39;49m\u001b[38;5;124;43m\"\u001b[39;49m\u001b[43m,\u001b[49m\n\u001b[1;32m   1385\u001b[0m \u001b[43m\u001b[49m\u001b[43m)\u001b[49m\n\u001b[1;32m   1387\u001b[0m y \u001b[38;5;241m=\u001b[39m _check_y(y, multi_output\u001b[38;5;241m=\u001b[39mmulti_output, y_numeric\u001b[38;5;241m=\u001b[39my_numeric, estimator\u001b[38;5;241m=\u001b[39mestimator)\n\u001b[1;32m   1389\u001b[0m check_consistent_length(X, y)\n",
      "File \u001b[0;32m~/.local/lib/python3.10/site-packages/sklearn/utils/validation.py:1107\u001b[0m, in \u001b[0;36mcheck_array\u001b[0;34m(array, accept_sparse, accept_large_sparse, dtype, order, copy, force_writeable, force_all_finite, ensure_all_finite, ensure_non_negative, ensure_2d, allow_nd, ensure_min_samples, ensure_min_features, estimator, input_name)\u001b[0m\n\u001b[1;32m   1101\u001b[0m     \u001b[38;5;28;01mraise\u001b[39;00m \u001b[38;5;167;01mValueError\u001b[39;00m(\n\u001b[1;32m   1102\u001b[0m         \u001b[38;5;124m\"\u001b[39m\u001b[38;5;124mFound array with dim \u001b[39m\u001b[38;5;132;01m%d\u001b[39;00m\u001b[38;5;124m. \u001b[39m\u001b[38;5;132;01m%s\u001b[39;00m\u001b[38;5;124m expected <= 2.\u001b[39m\u001b[38;5;124m\"\u001b[39m\n\u001b[1;32m   1103\u001b[0m         \u001b[38;5;241m%\u001b[39m (array\u001b[38;5;241m.\u001b[39mndim, estimator_name)\n\u001b[1;32m   1104\u001b[0m     )\n\u001b[1;32m   1106\u001b[0m \u001b[38;5;28;01mif\u001b[39;00m ensure_all_finite:\n\u001b[0;32m-> 1107\u001b[0m     \u001b[43m_assert_all_finite\u001b[49m\u001b[43m(\u001b[49m\n\u001b[1;32m   1108\u001b[0m \u001b[43m        \u001b[49m\u001b[43marray\u001b[49m\u001b[43m,\u001b[49m\n\u001b[1;32m   1109\u001b[0m \u001b[43m        \u001b[49m\u001b[43minput_name\u001b[49m\u001b[38;5;241;43m=\u001b[39;49m\u001b[43minput_name\u001b[49m\u001b[43m,\u001b[49m\n\u001b[1;32m   1110\u001b[0m \u001b[43m        \u001b[49m\u001b[43mestimator_name\u001b[49m\u001b[38;5;241;43m=\u001b[39;49m\u001b[43mestimator_name\u001b[49m\u001b[43m,\u001b[49m\n\u001b[1;32m   1111\u001b[0m \u001b[43m        \u001b[49m\u001b[43mallow_nan\u001b[49m\u001b[38;5;241;43m=\u001b[39;49m\u001b[43mensure_all_finite\u001b[49m\u001b[43m \u001b[49m\u001b[38;5;241;43m==\u001b[39;49m\u001b[43m \u001b[49m\u001b[38;5;124;43m\"\u001b[39;49m\u001b[38;5;124;43mallow-nan\u001b[39;49m\u001b[38;5;124;43m\"\u001b[39;49m\u001b[43m,\u001b[49m\n\u001b[1;32m   1112\u001b[0m \u001b[43m    \u001b[49m\u001b[43m)\u001b[49m\n\u001b[1;32m   1114\u001b[0m \u001b[38;5;28;01mif\u001b[39;00m copy:\n\u001b[1;32m   1115\u001b[0m     \u001b[38;5;28;01mif\u001b[39;00m _is_numpy_namespace(xp):\n\u001b[1;32m   1116\u001b[0m         \u001b[38;5;66;03m# only make a copy if `array` and `array_orig` may share memory`\u001b[39;00m\n",
      "File \u001b[0;32m~/.local/lib/python3.10/site-packages/sklearn/utils/validation.py:120\u001b[0m, in \u001b[0;36m_assert_all_finite\u001b[0;34m(X, allow_nan, msg_dtype, estimator_name, input_name)\u001b[0m\n\u001b[1;32m    117\u001b[0m \u001b[38;5;28;01mif\u001b[39;00m first_pass_isfinite:\n\u001b[1;32m    118\u001b[0m     \u001b[38;5;28;01mreturn\u001b[39;00m\n\u001b[0;32m--> 120\u001b[0m \u001b[43m_assert_all_finite_element_wise\u001b[49m\u001b[43m(\u001b[49m\n\u001b[1;32m    121\u001b[0m \u001b[43m    \u001b[49m\u001b[43mX\u001b[49m\u001b[43m,\u001b[49m\n\u001b[1;32m    122\u001b[0m \u001b[43m    \u001b[49m\u001b[43mxp\u001b[49m\u001b[38;5;241;43m=\u001b[39;49m\u001b[43mxp\u001b[49m\u001b[43m,\u001b[49m\n\u001b[1;32m    123\u001b[0m \u001b[43m    \u001b[49m\u001b[43mallow_nan\u001b[49m\u001b[38;5;241;43m=\u001b[39;49m\u001b[43mallow_nan\u001b[49m\u001b[43m,\u001b[49m\n\u001b[1;32m    124\u001b[0m \u001b[43m    \u001b[49m\u001b[43mmsg_dtype\u001b[49m\u001b[38;5;241;43m=\u001b[39;49m\u001b[43mmsg_dtype\u001b[49m\u001b[43m,\u001b[49m\n\u001b[1;32m    125\u001b[0m \u001b[43m    \u001b[49m\u001b[43mestimator_name\u001b[49m\u001b[38;5;241;43m=\u001b[39;49m\u001b[43mestimator_name\u001b[49m\u001b[43m,\u001b[49m\n\u001b[1;32m    126\u001b[0m \u001b[43m    \u001b[49m\u001b[43minput_name\u001b[49m\u001b[38;5;241;43m=\u001b[39;49m\u001b[43minput_name\u001b[49m\u001b[43m,\u001b[49m\n\u001b[1;32m    127\u001b[0m \u001b[43m\u001b[49m\u001b[43m)\u001b[49m\n",
      "File \u001b[0;32m~/.local/lib/python3.10/site-packages/sklearn/utils/validation.py:169\u001b[0m, in \u001b[0;36m_assert_all_finite_element_wise\u001b[0;34m(X, xp, allow_nan, msg_dtype, estimator_name, input_name)\u001b[0m\n\u001b[1;32m    152\u001b[0m \u001b[38;5;28;01mif\u001b[39;00m estimator_name \u001b[38;5;129;01mand\u001b[39;00m input_name \u001b[38;5;241m==\u001b[39m \u001b[38;5;124m\"\u001b[39m\u001b[38;5;124mX\u001b[39m\u001b[38;5;124m\"\u001b[39m \u001b[38;5;129;01mand\u001b[39;00m has_nan_error:\n\u001b[1;32m    153\u001b[0m     \u001b[38;5;66;03m# Improve the error message on how to handle missing values in\u001b[39;00m\n\u001b[1;32m    154\u001b[0m     \u001b[38;5;66;03m# scikit-learn.\u001b[39;00m\n\u001b[1;32m    155\u001b[0m     msg_err \u001b[38;5;241m+\u001b[39m\u001b[38;5;241m=\u001b[39m (\n\u001b[1;32m    156\u001b[0m         \u001b[38;5;124mf\u001b[39m\u001b[38;5;124m\"\u001b[39m\u001b[38;5;130;01m\\n\u001b[39;00m\u001b[38;5;132;01m{\u001b[39;00mestimator_name\u001b[38;5;132;01m}\u001b[39;00m\u001b[38;5;124m does not accept missing values\u001b[39m\u001b[38;5;124m\"\u001b[39m\n\u001b[1;32m    157\u001b[0m         \u001b[38;5;124m\"\u001b[39m\u001b[38;5;124m encoded as NaN natively. For supervised learning, you might want\u001b[39m\u001b[38;5;124m\"\u001b[39m\n\u001b[0;32m   (...)\u001b[0m\n\u001b[1;32m    167\u001b[0m         \u001b[38;5;124m\"\u001b[39m\u001b[38;5;124m#estimators-that-handle-nan-values\u001b[39m\u001b[38;5;124m\"\u001b[39m\n\u001b[1;32m    168\u001b[0m     )\n\u001b[0;32m--> 169\u001b[0m \u001b[38;5;28;01mraise\u001b[39;00m \u001b[38;5;167;01mValueError\u001b[39;00m(msg_err)\n",
      "\u001b[0;31mValueError\u001b[0m: Input X contains NaN."
     ]
    }
   ],
   "source": [
    "# Calculate feature importance\n",
    "importance = mutual_info_classif(X_encoded, y)\n",
    "feature_importance = pd.Series(importance, index=X_encoded.columns)\n",
    "print(feature_importance.sort_values(ascending=False))"
   ]
  },
  {
   "cell_type": "code",
   "execution_count": 89,
   "metadata": {
    "ExecuteTime": {
     "end_time": "2025-01-11T20:14:50.075815Z",
     "start_time": "2025-01-11T20:14:50.026264Z"
    }
   },
   "outputs": [
    {
     "name": "stdout",
     "output_type": "stream",
     "text": [
      "Numerical Columns: \n",
      "Any NaN values: False\n",
      "Any infinite values: False\n",
      "Categorical Columns: \n",
      "Any NaN values: CGPA_Category    False\n",
      "dtype: bool\n"
     ]
    }
   ],
   "source": [
    "import numpy as np\n",
    "import pandas as pd\n",
    "\n",
    "numerical_columns = X.select_dtypes(include=['float64', 'int64']).columns\n",
    "categorical_columns = X.select_dtypes(include=['category', 'object']).columns\n",
    "\n",
    "print(\"Numerical Columns: \")\n",
    "print(\"Any NaN values:\", np.any(np.isnan(X[numerical_columns])))\n",
    "print(\"Any infinite values:\", np.any(np.isinf(X[numerical_columns])))\n",
    "\n",
    "print(\"Categorical Columns: \")\n",
    "print(\"Any NaN values:\", X[categorical_columns].isna().any())\n",
    "\n",
    "X[numerical_columns] = X[numerical_columns].replace([np.inf, -np.inf], np.nan)\n",
    "X = X.dropna()\n"
   ]
  },
  {
   "cell_type": "markdown",
   "metadata": {},
   "source": [
    "Machine Learning Implementation"
   ]
  },
  {
   "cell_type": "code",
   "execution_count": 90,
   "metadata": {
    "ExecuteTime": {
     "end_time": "2025-01-11T20:14:50.302025Z",
     "start_time": "2025-01-11T20:14:50.201342Z"
    }
   },
   "outputs": [
    {
     "name": "stdout",
     "output_type": "stream",
     "text": [
      "Columns in the dataset: Index(['id', 'Gender', 'Age', 'City', 'Profession', 'Academic Pressure',\n",
      "       'Work Pressure', 'CGPA', 'Study Satisfaction', 'Job Satisfaction',\n",
      "       'Sleep Duration', 'Dietary Habits', 'Degree',\n",
      "       'Have you ever had suicidal thoughts ?', 'Work/Study Hours',\n",
      "       'Financial Stress', 'Family History of Mental Illness', 'Depression'],\n",
      "      dtype='object')\n"
     ]
    }
   ],
   "source": [
    "import pandas as pd\n",
    "from sklearn.model_selection import train_test_split\n",
    "\n",
    "file_path = \"/home/any1/Documents/I2_Data_Science/Final_Project/data/processed_v2_eda_student_depression.csv\"\n",
    "\n",
    "# Load the dataset\n",
    "df = pd.read_csv(file_path)\n",
    "\n",
    "# Print the column names to identify the correct target column\n",
    "print(\"Columns in the dataset:\", df.columns)\n",
    "\n",
    "# Replace 'Depression' with the actual name of your target column\n",
    "X_encoded = df.drop(columns=['Depression'])  # Dropping the target column\n",
    "y = df['Depression']  # Target column\n",
    "\n",
    "# Split the data into train and test sets\n",
    "X_train, X_test, y_train, y_test = train_test_split(X_encoded, y, test_size=0.2, random_state=42)\n",
    "\n",
    "# Now you can continue with your model training\n"
   ]
  },
  {
   "cell_type": "code",
   "execution_count": 91,
   "metadata": {
    "ExecuteTime": {
     "end_time": "2025-01-11T20:14:50.375677Z",
     "start_time": "2025-01-11T20:14:50.311586Z"
    }
   },
   "outputs": [
    {
     "name": "stdout",
     "output_type": "stream",
     "text": [
      "No categorical columns to impute.\n",
      "             id  Gender   Age  City  Profession  Academic Pressure  \\\n",
      "0           2.0     1.0  33.0  51.0        11.0                5.0   \n",
      "1           8.0     0.0  24.0   3.0        11.0                2.0   \n",
      "2          26.0     1.0  31.0  44.0        11.0                3.0   \n",
      "3          30.0     0.0  28.0  49.0        11.0                3.0   \n",
      "4          32.0     0.0  25.0  16.0        11.0                4.0   \n",
      "...         ...     ...   ...   ...         ...                ...   \n",
      "27896  140685.0     0.0  27.0  45.0        11.0                5.0   \n",
      "27897  140686.0     1.0  27.0  25.0        11.0                2.0   \n",
      "27898  140689.0     1.0  31.0   9.0        11.0                3.0   \n",
      "27899  140690.0     0.0  18.0  25.0        11.0                5.0   \n",
      "27900  140699.0     1.0  27.0  38.0        11.0                4.0   \n",
      "\n",
      "       Work Pressure  CGPA  Study Satisfaction  Job Satisfaction  ...  \\\n",
      "0                0.0  8.97                 2.0               0.0  ...   \n",
      "1                0.0  5.90                 5.0               0.0  ...   \n",
      "2                0.0  7.03                 5.0               0.0  ...   \n",
      "3                0.0  5.59                 2.0               0.0  ...   \n",
      "4                0.0  8.13                 3.0               0.0  ...   \n",
      "...              ...   ...                 ...               ...  ...   \n",
      "27896            0.0  5.75                 5.0               0.0  ...   \n",
      "27897            0.0  9.40                 3.0               0.0  ...   \n",
      "27898            0.0  6.61                 4.0               0.0  ...   \n",
      "27899            0.0  6.88                 2.0               0.0  ...   \n",
      "27900            0.0  9.24                 1.0               0.0  ...   \n",
      "\n",
      "       Dietary Habits  Degree  Have you ever had suicidal thoughts ?  \\\n",
      "0                 0.0     3.0                                    1.0   \n",
      "1                 1.0    10.0                                    0.0   \n",
      "2                 0.0     5.0                                    0.0   \n",
      "3                 1.0     7.0                                    1.0   \n",
      "4                 1.0    17.0                                    1.0   \n",
      "...               ...     ...                                    ...   \n",
      "27896             3.0    11.0                                    1.0   \n",
      "27897             0.0    25.0                                    0.0   \n",
      "27898             3.0    22.0                                    0.0   \n",
      "27899             0.0    11.0                                    1.0   \n",
      "27900             0.0     7.0                                    1.0   \n",
      "\n",
      "       Work/Study Hours  Financial Stress  Family History of Mental Illness  \\\n",
      "0                   3.0               1.0                               0.0   \n",
      "1                   3.0               2.0                               1.0   \n",
      "2                   9.0               1.0                               1.0   \n",
      "3                   4.0               5.0                               1.0   \n",
      "4                   1.0               1.0                               0.0   \n",
      "...                 ...               ...                               ...   \n",
      "27896               7.0               1.0                               1.0   \n",
      "27897               0.0               3.0                               1.0   \n",
      "27898              12.0               2.0                               0.0   \n",
      "27899              10.0               5.0                               0.0   \n",
      "27900               2.0               3.0                               1.0   \n",
      "\n",
      "       Depression  Total Pressure  CGPA_Category CGPA_normalized  \n",
      "0             1.0             5.0           High        0.865447  \n",
      "1             0.0             2.0         Medium        0.464402  \n",
      "2             0.0             3.0           High        0.612018  \n",
      "3             1.0             3.0         Medium        0.423906  \n",
      "4             0.0             4.0           High        0.755715  \n",
      "...           ...             ...            ...             ...  \n",
      "27896         0.0             5.0         Medium        0.444807  \n",
      "27897         0.0             2.0           High        0.921620  \n",
      "27898         0.0             3.0         Medium        0.557152  \n",
      "27899         1.0             5.0         Medium        0.592423  \n",
      "27900         1.0             4.0           High        0.900718  \n",
      "\n",
      "[27901 rows x 21 columns]\n"
     ]
    }
   ],
   "source": [
    "from sklearn.impute import SimpleImputer\n",
    "\n",
    "\n",
    "# Assuming 'data' is your dataframe\n",
    "if data.empty:\n",
    "    print(\"DataFrame is empty.\")\n",
    "else:\n",
    "    numeric_columns = data.select_dtypes(include=['number']).columns\n",
    "    categorical_columns = data.select_dtypes(include=['object']).columns\n",
    "\n",
    "    if numeric_columns.empty:\n",
    "        print(\"No numeric columns to impute.\")\n",
    "    else:\n",
    "        # Impute missing values in numeric columns using the mean strategy\n",
    "        imputer_numeric = SimpleImputer(strategy='mean')\n",
    "        data[numeric_columns] = imputer_numeric.fit_transform(data[numeric_columns])\n",
    "\n",
    "    if categorical_columns.empty:\n",
    "        print(\"No categorical columns to impute.\")\n",
    "    else:\n",
    "        # Impute missing values in categorical columns using the most_frequent strategy\n",
    "        imputer_categorical = SimpleImputer(strategy='most_frequent')\n",
    "        data[categorical_columns] = imputer_categorical.fit_transform(data[categorical_columns])\n",
    "\n",
    "    print(data)\n"
   ]
  },
  {
   "cell_type": "code",
   "execution_count": 92,
   "metadata": {
    "ExecuteTime": {
     "end_time": "2025-01-11T20:14:50.494885Z",
     "start_time": "2025-01-11T20:14:50.469055Z"
    }
   },
   "outputs": [
    {
     "name": "stdout",
     "output_type": "stream",
     "text": [
      "Accuracy of Logistic Regression: 1.0000\n"
     ]
    }
   ],
   "source": [
    "import numpy as np\n",
    "from sklearn.linear_model import LogisticRegression\n",
    "from sklearn.model_selection import train_test_split\n",
    "from sklearn.datasets import load_iris\n",
    "from sklearn.preprocessing import StandardScaler\n",
    "from sklearn.metrics import accuracy_score\n",
    "\n",
    "data = load_iris()\n",
    "X = data.data\n",
    "y = data.target\n",
    "\n",
    "X_train, X_test, y_train, y_test = train_test_split(X, y, test_size=0.3, random_state=42)\n",
    "\n",
    "scaler = StandardScaler()\n",
    "X_train = scaler.fit_transform(X_train)\n",
    "X_test = scaler.transform(X_test)\n",
    "\n",
    "model_lr = LogisticRegression(max_iter=200)\n",
    "model_lr.fit(X_train, y_train)\n",
    "\n",
    "y_pred_lr = model_lr.predict(X_test)\n",
    "\n",
    "accuracy = accuracy_score(y_test, y_pred_lr)\n",
    "print(f\"Accuracy of Logistic Regression: {accuracy:.4f}\")\n"
   ]
  },
  {
   "cell_type": "code",
   "execution_count": 93,
   "metadata": {
    "ExecuteTime": {
     "end_time": "2025-01-11T20:14:50.600315Z",
     "start_time": "2025-01-11T20:14:50.572212Z"
    }
   },
   "outputs": [
    {
     "name": "stdout",
     "output_type": "stream",
     "text": [
      "Decision Tree Report:\n",
      "              precision    recall  f1-score   support\n",
      "\n",
      "           0       1.00      1.00      1.00        19\n",
      "           1       1.00      1.00      1.00        13\n",
      "           2       1.00      1.00      1.00        13\n",
      "\n",
      "    accuracy                           1.00        45\n",
      "   macro avg       1.00      1.00      1.00        45\n",
      "weighted avg       1.00      1.00      1.00        45\n",
      "\n",
      "Decision Tree ROC-AUC: 1.0\n"
     ]
    }
   ],
   "source": [
    "from sklearn.tree import DecisionTreeClassifier\n",
    "from sklearn.metrics import classification_report, roc_auc_score\n",
    "\n",
    "# Train the Decision Tree model\n",
    "model_dt = DecisionTreeClassifier(random_state=42)\n",
    "model_dt.fit(X_train, y_train)\n",
    "\n",
    "# Predict using the trained model\n",
    "y_pred_dt = model_dt.predict(X_test)\n",
    "\n",
    "# Print classification report (no multi_class argument here)\n",
    "print(\"Decision Tree Report:\")\n",
    "print(classification_report(y_test, y_pred_dt))\n",
    "\n",
    "# For ROC-AUC in multi-class, we need to use the 'predict_proba' method\n",
    "y_prob_dt = model_dt.predict_proba(X_test)\n",
    "\n",
    "# Calculate and print ROC-AUC score\n",
    "print(f\"Decision Tree ROC-AUC: {roc_auc_score(y_test, y_prob_dt, multi_class='ovr', average='macro')}\")\n"
   ]
  },
  {
   "cell_type": "code",
   "execution_count": 94,
   "metadata": {
    "ExecuteTime": {
     "end_time": "2025-01-11T20:14:50.676948Z",
     "start_time": "2025-01-11T20:14:50.666332Z"
    }
   },
   "outputs": [
    {
     "name": "stdout",
     "output_type": "stream",
     "text": [
      "Feature1: 0.00\n",
      "Feature2: 0.02\n",
      "Feature3: 0.89\n",
      "Feature4: 0.09\n"
     ]
    }
   ],
   "source": [
    "import pandas as pd\n",
    "\n",
    "# Assuming X is a NumPy array, you can convert it to a DataFrame\n",
    "X_df = pd.DataFrame(X, columns=['Feature1', 'Feature2', 'Feature3', 'Feature4'])  # Replace with actual feature names\n",
    "\n",
    "# Now, loop through the feature importances\n",
    "feature_importances = model_dt.feature_importances_\n",
    "for name, importance in zip(X_df.columns, feature_importances):\n",
    "    print(f\"{name}: {importance:.2f}\")\n"
   ]
  },
  {
   "cell_type": "code",
   "execution_count": 95,
   "metadata": {
    "ExecuteTime": {
     "end_time": "2025-01-11T20:14:51.071715Z",
     "start_time": "2025-01-11T20:14:50.746361Z"
    }
   },
   "outputs": [
    {
     "name": "stdout",
     "output_type": "stream",
     "text": [
      "{'max_depth': 5, 'min_samples_leaf': 1, 'min_samples_split': 10}\n"
     ]
    }
   ],
   "source": [
    "from sklearn.model_selection import GridSearchCV\n",
    "\n",
    "param_grid = {\n",
    "    'max_depth': [3, 5, 10],\n",
    "    'min_samples_split': [2, 5, 10],\n",
    "    'min_samples_leaf': [1, 2, 5]\n",
    "}\n",
    "grid_search = GridSearchCV(DecisionTreeClassifier(), param_grid, cv=5)\n",
    "grid_search.fit(X_train, y_train)\n",
    "print(grid_search.best_params_)\n"
   ]
  },
  {
   "cell_type": "code",
   "execution_count": 96,
   "metadata": {
    "ExecuteTime": {
     "end_time": "2025-01-11T20:14:51.558371Z",
     "start_time": "2025-01-11T20:14:51.152171Z"
    }
   },
   "outputs": [
    {
     "name": "stdout",
     "output_type": "stream",
     "text": [
      "Best Parameters: {'max_depth': 3, 'min_samples_split': 2, 'random_state': 42}\n",
      "Best ROC-AUC (CV): 0.9579016221873365\n",
      "Training ROC-AUC: 0.992580816110228\n",
      "Test ROC-AUC: 1.0\n"
     ]
    }
   ],
   "source": [
    "from sklearn.tree import DecisionTreeClassifier\n",
    "from sklearn.model_selection import GridSearchCV\n",
    "from sklearn.metrics import roc_auc_score\n",
    "\n",
    "# Define parameter grid for Decision Tree\n",
    "param_grid = {\n",
    "    'max_depth': [3, 5, 10, None],  # Added None for no limit\n",
    "    'min_samples_split': [2, 5, 10],\n",
    "    'random_state': [42]  # Ensure reproducibility\n",
    "}\n",
    "\n",
    "# Perform GridSearchCV with 'roc_auc_ovr' for multi-class\n",
    "grid = GridSearchCV(DecisionTreeClassifier(), param_grid, cv=5, scoring='roc_auc_ovr')\n",
    "grid.fit(X_train, y_train)\n",
    "\n",
    "# Ensure y_train and y_test are one-dimensional\n",
    "y_train = y_train.ravel()\n",
    "y_test = y_test.ravel()\n",
    "\n",
    "# Display best parameters and ROC-AUC score\n",
    "print(f\"Best Parameters: {grid.best_params_}\")\n",
    "print(f\"Best ROC-AUC (CV): {grid.best_score_}\")\n",
    "\n",
    "# Evaluate on training set (using predict_proba for probabilities)\n",
    "train_probabilities = grid.predict_proba(X_train)\n",
    "train_roc_auc = roc_auc_score(y_train, train_probabilities, multi_class='ovr')\n",
    "print(f\"Training ROC-AUC: {train_roc_auc}\")\n",
    "\n",
    "# Evaluate on test set (using predict_proba for probabilities)\n",
    "test_probabilities = grid.predict_proba(X_test)\n",
    "test_roc_auc = roc_auc_score(y_test, test_probabilities, multi_class='ovr')\n",
    "print(f\"Test ROC-AUC: {test_roc_auc}\")\n"
   ]
  },
  {
   "cell_type": "code",
   "execution_count": 97,
   "metadata": {
    "ExecuteTime": {
     "end_time": "2025-01-11T20:15:23.068920Z",
     "start_time": "2025-01-11T20:14:51.613923Z"
    }
   },
   "outputs": [
    {
     "name": "stdout",
     "output_type": "stream",
     "text": [
      "Random Forest Best Parameters: {'max_depth': 5, 'min_samples_split': 5, 'n_estimators': 200, 'random_state': 42}\n",
      "Random Forest Best ROC-AUC (CV): 0.9946755625327054\n"
     ]
    }
   ],
   "source": [
    "from sklearn.ensemble import RandomForestClassifier\n",
    "\n",
    "# Second model - Random Forest\n",
    "param_grid_rf = {\n",
    "    'n_estimators': [100, 200],\n",
    "    'max_depth': [3, 5, 10, None],\n",
    "    'min_samples_split': [2, 5, 10],\n",
    "    'random_state': [42]\n",
    "}\n",
    "\n",
    "grid_rf = GridSearchCV(RandomForestClassifier(), param_grid_rf, cv=5, scoring='roc_auc_ovr')\n",
    "grid_rf.fit(X_train, y_train)\n",
    "\n",
    "# Display best parameters and ROC-AUC for Random Forest\n",
    "print(f\"Random Forest Best Parameters: {grid_rf.best_params_}\")\n",
    "print(f\"Random Forest Best ROC-AUC (CV): {grid_rf.best_score_}\")\n"
   ]
  },
  {
   "cell_type": "code",
   "execution_count": 98,
   "metadata": {
    "ExecuteTime": {
     "end_time": "2025-01-11T20:15:23.236123Z",
     "start_time": "2025-01-11T20:15:23.221293Z"
    }
   },
   "outputs": [],
   "source": [
    "from sklearn.model_selection import train_test_split\n",
    "\n",
    "# Split the data into training and testing sets\n",
    "X_train, X_test, y_train, y_test = train_test_split(X, y, test_size=0.2, random_state=42)\n"
   ]
  },
  {
   "cell_type": "code",
   "execution_count": 99,
   "metadata": {
    "ExecuteTime": {
     "end_time": "2025-01-11T20:15:23.436324Z",
     "start_time": "2025-01-11T20:15:23.242146Z"
    }
   },
   "outputs": [
    {
     "data": {
      "image/png": "[encoded data removed]",
      "text/plain": [
       "<Figure size 800x600 with 1 Axes>"
      ]
     },
     "metadata": {},
     "output_type": "display_data"
    }
   ],
   "source": [
    "import matplotlib.pyplot as plt\n",
    "from sklearn.metrics import roc_curve, roc_auc_score\n",
    "\n",
    "# Make sure to get the predicted probabilities for the Random Forest model\n",
    "y_prob_rf = grid_rf.best_estimator_.predict_proba(X_test)  # Predicted probabilities\n",
    "\n",
    "# Calculate ROC curve for the positive class (class '1' as the positive label)\n",
    "fpr, tpr, thresholds = roc_curve(y_test, y_prob_rf[:, 1], pos_label=1)\n",
    "\n",
    "# Plot ROC curve\n",
    "plt.figure(figsize=(8, 6))\n",
    "plt.plot(fpr, tpr, label=f'Random Forest (AUC = {roc_auc_score(y_test, y_prob_rf, multi_class=\"ovr\", average=\"macro\"):.2f})')\n",
    "plt.plot([0, 1], [0, 1], 'k--', label='Random Guess')\n",
    "plt.xlabel('False Positive Rate')\n",
    "plt.ylabel('True Positive Rate')\n",
    "plt.title('ROC Curve - Random Forest')\n",
    "plt.legend(loc='lower right')\n",
    "plt.show()\n"
   ]
  },
  {
   "cell_type": "code",
   "execution_count": 100,
   "metadata": {
    "ExecuteTime": {
     "end_time": "2025-01-11T20:15:23.747319Z",
     "start_time": "2025-01-11T20:15:23.490867Z"
    }
   },
   "outputs": [
    {
     "data": {
      "image/png": "[encoded data removed]",
      "text/plain": [
       "<Figure size 1000x600 with 1 Axes>"
      ]
     },
     "metadata": {},
     "output_type": "display_data"
    },
    {
     "data": {
      "image/png": "[encoded data removed]",
      "text/plain": [
       "<Figure size 1000x600 with 1 Axes>"
      ]
     },
     "metadata": {},
     "output_type": "display_data"
    }
   ],
   "source": [
    "# Ensure the correct feature set is used (X_encoded or the set used by the models)\n",
    "importances_rf = grid_rf.best_estimator_.feature_importances_\n",
    "\n",
    "# If you are using X_encoded after one-hot encoding or transformations,\n",
    "# make sure to align the feature importance to the right feature set.\n",
    "# In case of mismatch, you can consider selecting the original features (before encoding).\n",
    "\n",
    "# For Random Forest model:\n",
    "feature_importance_rf = pd.Series(importances_rf, index=X_encoded.columns[:len(importances_rf)])\n",
    "\n",
    "# Plot feature importance for Random Forest\n",
    "plt.figure(figsize=(10, 6))\n",
    "feature_importance_rf.sort_values(ascending=True).plot(kind='barh', color='skyblue')\n",
    "plt.title('Random Forest Feature Importance')\n",
    "plt.xlabel('Importance')\n",
    "plt.ylabel('Feature')\n",
    "plt.show()\n",
    "\n",
    "# For Decision Tree model:\n",
    "importances_dt = model_dt.feature_importances_\n",
    "\n",
    "# Again, ensure the feature importance corresponds to the correct feature set\n",
    "feature_importance_dt = pd.Series(importances_dt, index=X_encoded.columns[:len(importances_dt)])\n",
    "\n",
    "# Plot feature importance for Decision Tree\n",
    "plt.figure(figsize=(10, 6))\n",
    "feature_importance_dt.sort_values(ascending=True).plot(kind='barh', color='lightcoral')\n",
    "plt.title('Decision Tree Feature Importance')\n",
    "plt.xlabel('Importance')\n",
    "plt.ylabel('Feature')\n",
    "plt.show()\n"
   ]
  }
 ],
 "metadata": {
  "kernelspec": {
   "display_name": "Python 3",
   "language": "python",
   "name": "python3"
  },
  "language_info": {
   "codemirror_mode": {
    "name": "ipython",
    "version": 3
   },
   "file_extension": ".py",
   "mimetype": "text/x-python",
   "name": "python",
   "nbconvert_exporter": "python",
   "pygments_lexer": "ipython3",
   "version": "3.10.12"
  }
 },
 "nbformat": 4,
 "nbformat_minor": 2
}
