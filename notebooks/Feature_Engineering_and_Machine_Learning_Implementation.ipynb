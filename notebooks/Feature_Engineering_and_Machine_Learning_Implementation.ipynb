{
 "cells": [
  {
   "cell_type": "markdown",
   "metadata": {},
   "source": [
    "Feature Engineering"
   ]
  },
  {
   "cell_type": "code",
   "metadata": {
    "ExecuteTime": {
     "end_time": "2025-01-21T14:16:51.355666Z",
     "start_time": "2025-01-21T14:16:51.351194Z"
    }
   },
   "source": [
    "import pandas as pd"
   ],
   "outputs": [],
   "execution_count": 385
  },
  {
   "cell_type": "code",
   "metadata": {
    "ExecuteTime": {
     "end_time": "2025-01-21T14:16:51.492091Z",
     "start_time": "2025-01-21T14:16:51.408483Z"
    }
   },
   "source": [
    "\n",
    "\n",
    "# Correct file path\n",
    "data = pd.read_csv(\"C:/Users/KiuStudnet/PycharmProjects/Student_Depression_Analysis/data/processed_v2_eda_student_depression.csv\")\n",
    "# Display the first few rows of the dataset\n",
    "print(data.head())\n"
   ],
   "outputs": [
    {
     "name": "stdout",
     "output_type": "stream",
     "text": [
      "   id  Gender   Age           City Profession  Academic Pressure  \\\n",
      "0   2    Male  33.0  Visakhapatnam    Student                5.0   \n",
      "1   8  Female  24.0      Bangalore    Student                2.0   \n",
      "2  26    Male  31.0       Srinagar    Student                3.0   \n",
      "3  30  Female  28.0       Varanasi    Student                3.0   \n",
      "4  32  Female  25.0         Jaipur    Student                4.0   \n",
      "\n",
      "   Work Pressure  CGPA  Study Satisfaction  Job Satisfaction  Sleep Duration  \\\n",
      "0            0.0  8.97                 2.0               0.0             2.0   \n",
      "1            0.0  5.90                 5.0               0.0             2.0   \n",
      "2            0.0  7.03                 5.0               0.0             1.0   \n",
      "3            0.0  5.59                 2.0               0.0             3.0   \n",
      "4            0.0  8.13                 3.0               0.0             2.0   \n",
      "\n",
      "  Dietary Habits   Degree Have you ever had suicidal thoughts ?  \\\n",
      "0        Healthy  B.Pharm                                   Yes   \n",
      "1       Moderate      BSc                                    No   \n",
      "2        Healthy       BA                                    No   \n",
      "3       Moderate      BCA                                   Yes   \n",
      "4       Moderate   M.Tech                                   Yes   \n",
      "\n",
      "   Work/Study Hours  Financial Stress Family History of Mental Illness  \\\n",
      "0               3.0               1.0                               No   \n",
      "1               3.0               2.0                              Yes   \n",
      "2               9.0               1.0                              Yes   \n",
      "3               4.0               5.0                              Yes   \n",
      "4               1.0               1.0                               No   \n",
      "\n",
      "   Depression  \n",
      "0           1  \n",
      "1           0  \n",
      "2           0  \n",
      "3           1  \n",
      "4           0  \n"
     ]
    }
   ],
   "execution_count": 386
  },
  {
   "cell_type": "code",
   "metadata": {
    "ExecuteTime": {
     "end_time": "2025-01-21T14:16:51.578303Z",
     "start_time": "2025-01-21T14:16:51.565803Z"
    }
   },
   "source": [
    "# Preview the data\n",
    "data.head()"
   ],
   "outputs": [
    {
     "data": {
      "text/plain": [
       "   id  Gender   Age           City Profession  Academic Pressure  \\\n",
       "0   2    Male  33.0  Visakhapatnam    Student                5.0   \n",
       "1   8  Female  24.0      Bangalore    Student                2.0   \n",
       "2  26    Male  31.0       Srinagar    Student                3.0   \n",
       "3  30  Female  28.0       Varanasi    Student                3.0   \n",
       "4  32  Female  25.0         Jaipur    Student                4.0   \n",
       "\n",
       "   Work Pressure  CGPA  Study Satisfaction  Job Satisfaction  Sleep Duration  \\\n",
       "0            0.0  8.97                 2.0               0.0             2.0   \n",
       "1            0.0  5.90                 5.0               0.0             2.0   \n",
       "2            0.0  7.03                 5.0               0.0             1.0   \n",
       "3            0.0  5.59                 2.0               0.0             3.0   \n",
       "4            0.0  8.13                 3.0               0.0             2.0   \n",
       "\n",
       "  Dietary Habits   Degree Have you ever had suicidal thoughts ?  \\\n",
       "0        Healthy  B.Pharm                                   Yes   \n",
       "1       Moderate      BSc                                    No   \n",
       "2        Healthy       BA                                    No   \n",
       "3       Moderate      BCA                                   Yes   \n",
       "4       Moderate   M.Tech                                   Yes   \n",
       "\n",
       "   Work/Study Hours  Financial Stress Family History of Mental Illness  \\\n",
       "0               3.0               1.0                               No   \n",
       "1               3.0               2.0                              Yes   \n",
       "2               9.0               1.0                              Yes   \n",
       "3               4.0               5.0                              Yes   \n",
       "4               1.0               1.0                               No   \n",
       "\n",
       "   Depression  \n",
       "0           1  \n",
       "1           0  \n",
       "2           0  \n",
       "3           1  \n",
       "4           0  "
      ],
      "text/html": [
       "<div>\n",
       "<style scoped>\n",
       "    .dataframe tbody tr th:only-of-type {\n",
       "        vertical-align: middle;\n",
       "    }\n",
       "\n",
       "    .dataframe tbody tr th {\n",
       "        vertical-align: top;\n",
       "    }\n",
       "\n",
       "    .dataframe thead th {\n",
       "        text-align: right;\n",
       "    }\n",
       "</style>\n",
       "<table border=\"1\" class=\"dataframe\">\n",
       "  <thead>\n",
       "    <tr style=\"text-align: right;\">\n",
       "      <th></th>\n",
       "      <th>id</th>\n",
       "      <th>Gender</th>\n",
       "      <th>Age</th>\n",
       "      <th>City</th>\n",
       "      <th>Profession</th>\n",
       "      <th>Academic Pressure</th>\n",
       "      <th>Work Pressure</th>\n",
       "      <th>CGPA</th>\n",
       "      <th>Study Satisfaction</th>\n",
       "      <th>Job Satisfaction</th>\n",
       "      <th>Sleep Duration</th>\n",
       "      <th>Dietary Habits</th>\n",
       "      <th>Degree</th>\n",
       "      <th>Have you ever had suicidal thoughts ?</th>\n",
       "      <th>Work/Study Hours</th>\n",
       "      <th>Financial Stress</th>\n",
       "      <th>Family History of Mental Illness</th>\n",
       "      <th>Depression</th>\n",
       "    </tr>\n",
       "  </thead>\n",
       "  <tbody>\n",
       "    <tr>\n",
       "      <th>0</th>\n",
       "      <td>2</td>\n",
       "      <td>Male</td>\n",
       "      <td>33.0</td>\n",
       "      <td>Visakhapatnam</td>\n",
       "      <td>Student</td>\n",
       "      <td>5.0</td>\n",
       "      <td>0.0</td>\n",
       "      <td>8.97</td>\n",
       "      <td>2.0</td>\n",
       "      <td>0.0</td>\n",
       "      <td>2.0</td>\n",
       "      <td>Healthy</td>\n",
       "      <td>B.Pharm</td>\n",
       "      <td>Yes</td>\n",
       "      <td>3.0</td>\n",
       "      <td>1.0</td>\n",
       "      <td>No</td>\n",
       "      <td>1</td>\n",
       "    </tr>\n",
       "    <tr>\n",
       "      <th>1</th>\n",
       "      <td>8</td>\n",
       "      <td>Female</td>\n",
       "      <td>24.0</td>\n",
       "      <td>Bangalore</td>\n",
       "      <td>Student</td>\n",
       "      <td>2.0</td>\n",
       "      <td>0.0</td>\n",
       "      <td>5.90</td>\n",
       "      <td>5.0</td>\n",
       "      <td>0.0</td>\n",
       "      <td>2.0</td>\n",
       "      <td>Moderate</td>\n",
       "      <td>BSc</td>\n",
       "      <td>No</td>\n",
       "      <td>3.0</td>\n",
       "      <td>2.0</td>\n",
       "      <td>Yes</td>\n",
       "      <td>0</td>\n",
       "    </tr>\n",
       "    <tr>\n",
       "      <th>2</th>\n",
       "      <td>26</td>\n",
       "      <td>Male</td>\n",
       "      <td>31.0</td>\n",
       "      <td>Srinagar</td>\n",
       "      <td>Student</td>\n",
       "      <td>3.0</td>\n",
       "      <td>0.0</td>\n",
       "      <td>7.03</td>\n",
       "      <td>5.0</td>\n",
       "      <td>0.0</td>\n",
       "      <td>1.0</td>\n",
       "      <td>Healthy</td>\n",
       "      <td>BA</td>\n",
       "      <td>No</td>\n",
       "      <td>9.0</td>\n",
       "      <td>1.0</td>\n",
       "      <td>Yes</td>\n",
       "      <td>0</td>\n",
       "    </tr>\n",
       "    <tr>\n",
       "      <th>3</th>\n",
       "      <td>30</td>\n",
       "      <td>Female</td>\n",
       "      <td>28.0</td>\n",
       "      <td>Varanasi</td>\n",
       "      <td>Student</td>\n",
       "      <td>3.0</td>\n",
       "      <td>0.0</td>\n",
       "      <td>5.59</td>\n",
       "      <td>2.0</td>\n",
       "      <td>0.0</td>\n",
       "      <td>3.0</td>\n",
       "      <td>Moderate</td>\n",
       "      <td>BCA</td>\n",
       "      <td>Yes</td>\n",
       "      <td>4.0</td>\n",
       "      <td>5.0</td>\n",
       "      <td>Yes</td>\n",
       "      <td>1</td>\n",
       "    </tr>\n",
       "    <tr>\n",
       "      <th>4</th>\n",
       "      <td>32</td>\n",
       "      <td>Female</td>\n",
       "      <td>25.0</td>\n",
       "      <td>Jaipur</td>\n",
       "      <td>Student</td>\n",
       "      <td>4.0</td>\n",
       "      <td>0.0</td>\n",
       "      <td>8.13</td>\n",
       "      <td>3.0</td>\n",
       "      <td>0.0</td>\n",
       "      <td>2.0</td>\n",
       "      <td>Moderate</td>\n",
       "      <td>M.Tech</td>\n",
       "      <td>Yes</td>\n",
       "      <td>1.0</td>\n",
       "      <td>1.0</td>\n",
       "      <td>No</td>\n",
       "      <td>0</td>\n",
       "    </tr>\n",
       "  </tbody>\n",
       "</table>\n",
       "</div>"
      ]
     },
     "execution_count": 387,
     "metadata": {},
     "output_type": "execute_result"
    }
   ],
   "execution_count": 387
  },
  {
   "cell_type": "code",
   "metadata": {
    "ExecuteTime": {
     "end_time": "2025-01-21T14:16:51.682110Z",
     "start_time": "2025-01-21T14:16:51.675302Z"
    }
   },
   "source": [
    "# Create Total Pressure feature\n",
    "data['Total Pressure'] = data['Academic Pressure'] + data['Work Pressure']"
   ],
   "outputs": [],
   "execution_count": 388
  },
  {
   "cell_type": "code",
   "metadata": {
    "ExecuteTime": {
     "end_time": "2025-01-21T14:16:51.765453Z",
     "start_time": "2025-01-21T14:16:51.755643Z"
    }
   },
   "source": [
    "# Bin CGPA into categories\n",
    "data['CGPA_Category'] = pd.cut(data['CGPA'], bins=[0, 5, 7, 10], labels=['Low', 'Medium', 'High'])"
   ],
   "outputs": [],
   "execution_count": 389
  },
  {
   "cell_type": "code",
   "metadata": {
    "ExecuteTime": {
     "end_time": "2025-01-21T14:16:51.904609Z",
     "start_time": "2025-01-21T14:16:51.894426Z"
    }
   },
   "source": [
    "# Normalize CGPA\n",
    "from sklearn.preprocessing import MinMaxScaler\n",
    "scaler = MinMaxScaler()\n",
    "data['CGPA_normalized'] = scaler.fit_transform(data[['CGPA']])"
   ],
   "outputs": [],
   "execution_count": 390
  },
  {
   "cell_type": "code",
   "metadata": {
    "ExecuteTime": {
     "end_time": "2025-01-21T14:16:52.045409Z",
     "start_time": "2025-01-21T14:16:52.007206Z"
    }
   },
   "source": [
    "from sklearn.preprocessing import LabelEncoder\n",
    "\n",
    "# Columns to encode\n",
    "categorical_columns = ['Gender', 'City', 'Profession', 'Dietary Habits', \n",
    "                       'Degree', 'Have you ever had suicidal thoughts ?', \n",
    "                       'Family History of Mental Illness']\n",
    "\n",
    "# Apply Label Encoding\n",
    "label_encoders = {}\n",
    "for col in categorical_columns:\n",
    "    le = LabelEncoder()\n",
    "    data[col] = le.fit_transform(data[col])\n",
    "    label_encoders[col] = le  # Save encoder for reverse mapping\n"
   ],
   "outputs": [],
   "execution_count": 391
  },
  {
   "cell_type": "code",
   "metadata": {
    "ExecuteTime": {
     "end_time": "2025-01-21T14:16:52.133911Z",
     "start_time": "2025-01-21T14:16:52.130367Z"
    }
   },
   "source": [
    "# Identify important features using mutual information\n",
    "from sklearn.feature_selection import mutual_info_classif"
   ],
   "outputs": [],
   "execution_count": 392
  },
  {
   "cell_type": "code",
   "metadata": {
    "ExecuteTime": {
     "end_time": "2025-01-21T14:16:52.216901Z",
     "start_time": "2025-01-21T14:16:52.209979Z"
    }
   },
   "source": [
    "X = data.drop(['Depression', 'id'], axis=1)\n",
    "y = data['Depression']"
   ],
   "outputs": [],
   "execution_count": 393
  },
  {
   "cell_type": "code",
   "metadata": {
    "ExecuteTime": {
     "end_time": "2025-01-21T14:16:52.310525Z",
     "start_time": "2025-01-21T14:16:52.303703Z"
    }
   },
   "source": [
    "print(X.dtypes)\n"
   ],
   "outputs": [
    {
     "name": "stdout",
     "output_type": "stream",
     "text": [
      "Gender                                      int64\n",
      "Age                                       float64\n",
      "City                                        int64\n",
      "Profession                                  int64\n",
      "Academic Pressure                         float64\n",
      "Work Pressure                             float64\n",
      "CGPA                                      float64\n",
      "Study Satisfaction                        float64\n",
      "Job Satisfaction                          float64\n",
      "Sleep Duration                            float64\n",
      "Dietary Habits                              int64\n",
      "Degree                                      int64\n",
      "Have you ever had suicidal thoughts ?       int64\n",
      "Work/Study Hours                          float64\n",
      "Financial Stress                          float64\n",
      "Family History of Mental Illness            int64\n",
      "Total Pressure                            float64\n",
      "CGPA_Category                            category\n",
      "CGPA_normalized                           float64\n",
      "dtype: object\n"
     ]
    }
   ],
   "execution_count": 394
  },
  {
   "cell_type": "code",
   "metadata": {
    "ExecuteTime": {
     "end_time": "2025-01-21T14:16:52.450807Z",
     "start_time": "2025-01-21T14:16:52.418466Z"
    }
   },
   "source": [
    "# One-hot encode categorical variables\n",
    "X_encoded = pd.get_dummies(X, drop_first=True)\n",
    "print(X_encoded.isnull().sum())\n",
    "X_encoded = X_encoded.fillna(X_encoded.mean())\n",
    "print(X_encoded.isnull().sum())\n",
    "\n"
   ],
   "outputs": [
    {
     "name": "stdout",
     "output_type": "stream",
     "text": [
      "Gender                                    0\n",
      "Age                                       0\n",
      "City                                      0\n",
      "Profession                                0\n",
      "Academic Pressure                         0\n",
      "Work Pressure                             0\n",
      "CGPA                                      0\n",
      "Study Satisfaction                        0\n",
      "Job Satisfaction                          0\n",
      "Sleep Duration                           18\n",
      "Dietary Habits                            0\n",
      "Degree                                    0\n",
      "Have you ever had suicidal thoughts ?     0\n",
      "Work/Study Hours                          0\n",
      "Financial Stress                          0\n",
      "Family History of Mental Illness          0\n",
      "Total Pressure                            0\n",
      "CGPA_normalized                           0\n",
      "CGPA_Category_Medium                      0\n",
      "CGPA_Category_High                        0\n",
      "dtype: int64\n",
      "Gender                                   0\n",
      "Age                                      0\n",
      "City                                     0\n",
      "Profession                               0\n",
      "Academic Pressure                        0\n",
      "Work Pressure                            0\n",
      "CGPA                                     0\n",
      "Study Satisfaction                       0\n",
      "Job Satisfaction                         0\n",
      "Sleep Duration                           0\n",
      "Dietary Habits                           0\n",
      "Degree                                   0\n",
      "Have you ever had suicidal thoughts ?    0\n",
      "Work/Study Hours                         0\n",
      "Financial Stress                         0\n",
      "Family History of Mental Illness         0\n",
      "Total Pressure                           0\n",
      "CGPA_normalized                          0\n",
      "CGPA_Category_Medium                     0\n",
      "CGPA_Category_High                       0\n",
      "dtype: int64\n"
     ]
    }
   ],
   "execution_count": 395
  },
  {
   "cell_type": "code",
   "metadata": {
    "ExecuteTime": {
     "end_time": "2025-01-21T14:16:55.137585Z",
     "start_time": "2025-01-21T14:16:52.548876Z"
    }
   },
   "source": [
    "# Calculate feature importance\n",
    "importance = mutual_info_classif(X_encoded, y)\n",
    "feature_importance = pd.Series(importance, index=X_encoded.columns)\n",
    "print(feature_importance.sort_values(ascending=False))"
   ],
   "outputs": [
    {
     "name": "stdout",
     "output_type": "stream",
     "text": [
      "Have you ever had suicidal thoughts ?    0.158465\n",
      "Total Pressure                           0.126118\n",
      "Academic Pressure                        0.122404\n",
      "Financial Stress                         0.062811\n",
      "Age                                      0.027323\n",
      "Work/Study Hours                         0.022779\n",
      "Dietary Habits                           0.015862\n",
      "Degree                                   0.014043\n",
      "CGPA                                     0.011011\n",
      "Study Satisfaction                       0.010580\n",
      "Sleep Duration                           0.009098\n",
      "Profession                               0.007187\n",
      "City                                     0.006205\n",
      "CGPA_Category_Medium                     0.003972\n",
      "CGPA_Category_High                       0.002878\n",
      "Family History of Mental Illness         0.002601\n",
      "Gender                                   0.001083\n",
      "CGPA_normalized                          0.000139\n",
      "Job Satisfaction                         0.000000\n",
      "Work Pressure                            0.000000\n",
      "dtype: float64\n"
     ]
    }
   ],
   "execution_count": 396
  },
  {
   "cell_type": "code",
   "metadata": {
    "ExecuteTime": {
     "end_time": "2025-01-21T14:16:55.262259Z",
     "start_time": "2025-01-21T14:16:55.226129Z"
    }
   },
   "source": [
    "import numpy as np\n",
    "import pandas as pd\n",
    "\n",
    "numerical_columns = X.select_dtypes(include=['float64', 'int64']).columns\n",
    "categorical_columns = X.select_dtypes(include=['category', 'object']).columns\n",
    "\n",
    "print(\"Numerical Columns: \")\n",
    "print(\"Any NaN values:\", np.any(np.isnan(X[numerical_columns])))\n",
    "print(\"Any infinite values:\", np.any(np.isinf(X[numerical_columns])))\n",
    "\n",
    "print(\"Categorical Columns: \")\n",
    "print(\"Any NaN values:\", X[categorical_columns].isna().any())\n",
    "\n",
    "X[numerical_columns] = X[numerical_columns].replace([np.inf, -np.inf], np.nan)\n",
    "X = X.dropna()\n"
   ],
   "outputs": [
    {
     "name": "stdout",
     "output_type": "stream",
     "text": [
      "Numerical Columns: \n",
      "Any NaN values: True\n",
      "Any infinite values: False\n",
      "Categorical Columns: \n",
      "Any NaN values: CGPA_Category    False\n",
      "dtype: bool\n"
     ]
    }
   ],
   "execution_count": 397
  },
  {
   "cell_type": "markdown",
   "metadata": {},
   "source": [
    "Machine Learning Implementation"
   ]
  },
  {
   "cell_type": "code",
   "metadata": {
    "ExecuteTime": {
     "end_time": "2025-01-21T14:16:55.419178Z",
     "start_time": "2025-01-21T14:16:55.349423Z"
    }
   },
   "source": [
    "import pandas as pd\n",
    "from sklearn.model_selection import train_test_split\n",
    "\n",
    "file_path = r\"C:\\Users\\KiuStudnet\\PycharmProjects\\Student_Depression_Analysis\\data\\processed_v2_eda_student_depression.csv\"\n",
    "\n",
    "# Load the dataset\n",
    "df = pd.read_csv(file_path)\n",
    "\n",
    "# Print the column names to identify the correct target column\n",
    "print(\"Columns in the dataset:\", df.columns)\n",
    "\n",
    "# Replace 'Depression' with the actual name of your target column\n",
    "X_encoded = df.drop(columns=['Depression'])  # Dropping the target column\n",
    "y = df['Depression']  # Target column\n",
    "\n",
    "# Split the data into train and test sets\n",
    "X_train, X_test, y_train, y_test = train_test_split(X_encoded, y, test_size=0.2, random_state=42)\n",
    "\n",
    "# Now you can continue with your model training\n"
   ],
   "outputs": [
    {
     "name": "stdout",
     "output_type": "stream",
     "text": [
      "Columns in the dataset: Index(['id', 'Gender', 'Age', 'City', 'Profession', 'Academic Pressure',\n",
      "       'Work Pressure', 'CGPA', 'Study Satisfaction', 'Job Satisfaction',\n",
      "       'Sleep Duration', 'Dietary Habits', 'Degree',\n",
      "       'Have you ever had suicidal thoughts ?', 'Work/Study Hours',\n",
      "       'Financial Stress', 'Family History of Mental Illness', 'Depression'],\n",
      "      dtype='object')\n"
     ]
    }
   ],
   "execution_count": 398
  },
  {
   "metadata": {
    "ExecuteTime": {
     "end_time": "2025-01-21T14:16:55.568168Z",
     "start_time": "2025-01-21T14:16:55.512847Z"
    }
   },
   "cell_type": "code",
   "source": [
    "from sklearn.impute import SimpleImputer\n",
    "\n",
    "\n",
    "# Assuming 'data' is your dataframe\n",
    "if data.empty:\n",
    "    print(\"DataFrame is empty.\")\n",
    "else:\n",
    "    numeric_columns = data.select_dtypes(include=['number']).columns\n",
    "    categorical_columns = data.select_dtypes(include=['object']).columns\n",
    "\n",
    "    if numeric_columns.empty:\n",
    "        print(\"No numeric columns to impute.\")\n",
    "    else:\n",
    "        # Impute missing values in numeric columns using the mean strategy\n",
    "        imputer_numeric = SimpleImputer(strategy='mean')\n",
    "        data[numeric_columns] = imputer_numeric.fit_transform(data[numeric_columns])\n",
    "\n",
    "    if categorical_columns.empty:\n",
    "        print(\"No categorical columns to impute.\")\n",
    "    else:\n",
    "        # Impute missing values in categorical columns using the most_frequent strategy\n",
    "        imputer_categorical = SimpleImputer(strategy='most_frequent')\n",
    "        data[categorical_columns] = imputer_categorical.fit_transform(data[categorical_columns])\n",
    "\n",
    "    print(data)\n"
   ],
   "outputs": [
    {
     "name": "stdout",
     "output_type": "stream",
     "text": [
      "No categorical columns to impute.\n",
      "             id  Gender   Age  City  Profession  Academic Pressure  \\\n",
      "0           2.0     1.0  33.0  51.0        11.0                5.0   \n",
      "1           8.0     0.0  24.0   3.0        11.0                2.0   \n",
      "2          26.0     1.0  31.0  44.0        11.0                3.0   \n",
      "3          30.0     0.0  28.0  49.0        11.0                3.0   \n",
      "4          32.0     0.0  25.0  16.0        11.0                4.0   \n",
      "...         ...     ...   ...   ...         ...                ...   \n",
      "27896  140685.0     0.0  27.0  45.0        11.0                5.0   \n",
      "27897  140686.0     1.0  27.0  25.0        11.0                2.0   \n",
      "27898  140689.0     1.0  31.0   9.0        11.0                3.0   \n",
      "27899  140690.0     0.0  18.0  25.0        11.0                5.0   \n",
      "27900  140699.0     1.0  27.0  38.0        11.0                4.0   \n",
      "\n",
      "       Work Pressure  CGPA  Study Satisfaction  Job Satisfaction  ...  \\\n",
      "0                0.0  8.97                 2.0               0.0  ...   \n",
      "1                0.0  5.90                 5.0               0.0  ...   \n",
      "2                0.0  7.03                 5.0               0.0  ...   \n",
      "3                0.0  5.59                 2.0               0.0  ...   \n",
      "4                0.0  8.13                 3.0               0.0  ...   \n",
      "...              ...   ...                 ...               ...  ...   \n",
      "27896            0.0  5.75                 5.0               0.0  ...   \n",
      "27897            0.0  9.40                 3.0               0.0  ...   \n",
      "27898            0.0  6.61                 4.0               0.0  ...   \n",
      "27899            0.0  6.88                 2.0               0.0  ...   \n",
      "27900            0.0  9.24                 1.0               0.0  ...   \n",
      "\n",
      "       Dietary Habits  Degree  Have you ever had suicidal thoughts ?  \\\n",
      "0                 0.0     3.0                                    1.0   \n",
      "1                 1.0    10.0                                    0.0   \n",
      "2                 0.0     5.0                                    0.0   \n",
      "3                 1.0     7.0                                    1.0   \n",
      "4                 1.0    17.0                                    1.0   \n",
      "...               ...     ...                                    ...   \n",
      "27896             3.0    11.0                                    1.0   \n",
      "27897             0.0    25.0                                    0.0   \n",
      "27898             3.0    22.0                                    0.0   \n",
      "27899             0.0    11.0                                    1.0   \n",
      "27900             0.0     7.0                                    1.0   \n",
      "\n",
      "       Work/Study Hours  Financial Stress  Family History of Mental Illness  \\\n",
      "0                   3.0               1.0                               0.0   \n",
      "1                   3.0               2.0                               1.0   \n",
      "2                   9.0               1.0                               1.0   \n",
      "3                   4.0               5.0                               1.0   \n",
      "4                   1.0               1.0                               0.0   \n",
      "...                 ...               ...                               ...   \n",
      "27896               7.0               1.0                               1.0   \n",
      "27897               0.0               3.0                               1.0   \n",
      "27898              12.0               2.0                               0.0   \n",
      "27899              10.0               5.0                               0.0   \n",
      "27900               2.0               3.0                               1.0   \n",
      "\n",
      "       Depression  Total Pressure  CGPA_Category CGPA_normalized  \n",
      "0             1.0             5.0           High        0.865447  \n",
      "1             0.0             2.0         Medium        0.464402  \n",
      "2             0.0             3.0           High        0.612018  \n",
      "3             1.0             3.0         Medium        0.423906  \n",
      "4             0.0             4.0           High        0.755715  \n",
      "...           ...             ...            ...             ...  \n",
      "27896         0.0             5.0         Medium        0.444807  \n",
      "27897         0.0             2.0           High        0.921620  \n",
      "27898         0.0             3.0         Medium        0.557152  \n",
      "27899         1.0             5.0         Medium        0.592423  \n",
      "27900         1.0             4.0           High        0.900718  \n",
      "\n",
      "[27901 rows x 21 columns]\n"
     ]
    }
   ],
   "execution_count": 399
  },
  {
   "metadata": {
    "ExecuteTime": {
     "end_time": "2025-01-21T14:16:55.673288Z",
     "start_time": "2025-01-21T14:16:55.657411Z"
    }
   },
   "cell_type": "code",
   "source": [
    "import numpy as np\n",
    "from sklearn.linear_model import LogisticRegression\n",
    "from sklearn.model_selection import train_test_split\n",
    "from sklearn.datasets import load_iris\n",
    "from sklearn.preprocessing import StandardScaler\n",
    "from sklearn.metrics import accuracy_score\n",
    "\n",
    "data = load_iris()\n",
    "X = data.data\n",
    "y = data.target\n",
    "\n",
    "X_train, X_test, y_train, y_test = train_test_split(X, y, test_size=0.3, random_state=42)\n",
    "\n",
    "scaler = StandardScaler()\n",
    "X_train = scaler.fit_transform(X_train)\n",
    "X_test = scaler.transform(X_test)\n",
    "\n",
    "model_lr = LogisticRegression(max_iter=200)\n",
    "model_lr.fit(X_train, y_train)\n",
    "\n",
    "y_pred_lr = model_lr.predict(X_test)\n",
    "\n",
    "accuracy = accuracy_score(y_test, y_pred_lr)\n",
    "print(f\"Accuracy of Logistic Regression: {accuracy:.4f}\")\n"
   ],
   "outputs": [
    {
     "name": "stdout",
     "output_type": "stream",
     "text": [
      "Accuracy of Logistic Regression: 1.0000\n"
     ]
    }
   ],
   "execution_count": 400
  },
  {
   "cell_type": "code",
   "metadata": {
    "ExecuteTime": {
     "end_time": "2025-01-21T14:16:55.827317Z",
     "start_time": "2025-01-21T14:16:55.805713Z"
    }
   },
   "source": [
    "from sklearn.tree import DecisionTreeClassifier\n",
    "from sklearn.metrics import classification_report, roc_auc_score\n",
    "\n",
    "# Train the Decision Tree model\n",
    "model_dt = DecisionTreeClassifier(random_state=42)\n",
    "model_dt.fit(X_train, y_train)\n",
    "\n",
    "# Predict using the trained model\n",
    "y_pred_dt = model_dt.predict(X_test)\n",
    "\n",
    "# Print classification report (no multi_class argument here)\n",
    "print(\"Decision Tree Report:\")\n",
    "print(classification_report(y_test, y_pred_dt))\n",
    "\n",
    "# For ROC-AUC in multi-class, we need to use the 'predict_proba' method\n",
    "y_prob_dt = model_dt.predict_proba(X_test)\n",
    "\n",
    "# Calculate and print ROC-AUC score\n",
    "print(f\"Decision Tree ROC-AUC: {roc_auc_score(y_test, y_prob_dt, multi_class='ovr', average='macro')}\")\n"
   ],
   "outputs": [
    {
     "name": "stdout",
     "output_type": "stream",
     "text": [
      "Decision Tree Report:\n",
      "              precision    recall  f1-score   support\n",
      "\n",
      "           0       1.00      1.00      1.00        19\n",
      "           1       1.00      1.00      1.00        13\n",
      "           2       1.00      1.00      1.00        13\n",
      "\n",
      "    accuracy                           1.00        45\n",
      "   macro avg       1.00      1.00      1.00        45\n",
      "weighted avg       1.00      1.00      1.00        45\n",
      "\n",
      "Decision Tree ROC-AUC: 1.0\n"
     ]
    }
   ],
   "execution_count": 401
  },
  {
   "cell_type": "code",
   "metadata": {
    "ExecuteTime": {
     "end_time": "2025-01-21T14:16:55.868799Z",
     "start_time": "2025-01-21T14:16:55.862320Z"
    }
   },
   "source": [
    "import pandas as pd\n",
    "\n",
    "# Assuming X is a NumPy array, you can convert it to a DataFrame\n",
    "X_df = pd.DataFrame(X, columns=['Feature1', 'Feature2', 'Feature3', 'Feature4'])  # Replace with actual feature names\n",
    "\n",
    "# Now, loop through the feature importances\n",
    "feature_importances = model_dt.feature_importances_\n",
    "for name, importance in zip(X_df.columns, feature_importances):\n",
    "    print(f\"{name}: {importance:.2f}\")\n"
   ],
   "outputs": [
    {
     "name": "stdout",
     "output_type": "stream",
     "text": [
      "Feature1: 0.00\n",
      "Feature2: 0.02\n",
      "Feature3: 0.89\n",
      "Feature4: 0.09\n"
     ]
    }
   ],
   "execution_count": 402
  },
  {
   "cell_type": "code",
   "metadata": {
    "ExecuteTime": {
     "end_time": "2025-01-21T14:16:56.059991Z",
     "start_time": "2025-01-21T14:16:55.935408Z"
    }
   },
   "source": [
    "from sklearn.model_selection import GridSearchCV\n",
    "\n",
    "param_grid = {\n",
    "    'max_depth': [3, 5, 10],\n",
    "    'min_samples_split': [2, 5, 10],\n",
    "    'min_samples_leaf': [1, 2, 5]\n",
    "}\n",
    "grid_search = GridSearchCV(DecisionTreeClassifier(), param_grid, cv=5)\n",
    "grid_search.fit(X_train, y_train)\n",
    "print(grid_search.best_params_)\n"
   ],
   "outputs": [
    {
     "name": "stdout",
     "output_type": "stream",
     "text": [
      "{'max_depth': 5, 'min_samples_leaf': 1, 'min_samples_split': 10}\n"
     ]
    }
   ],
   "execution_count": 403
  },
  {
   "cell_type": "code",
   "metadata": {
    "ExecuteTime": {
     "end_time": "2025-01-21T14:16:56.275076Z",
     "start_time": "2025-01-21T14:16:56.122694Z"
    }
   },
   "source": [
    "from sklearn.tree import DecisionTreeClassifier\n",
    "from sklearn.model_selection import GridSearchCV\n",
    "from sklearn.metrics import roc_auc_score\n",
    "\n",
    "# Define parameter grid for Decision Tree\n",
    "param_grid = {\n",
    "    'max_depth': [3, 5, 10, None],  # Added None for no limit\n",
    "    'min_samples_split': [2, 5, 10],\n",
    "    'random_state': [42]  # Ensure reproducibility\n",
    "}\n",
    "\n",
    "# Perform GridSearchCV with 'roc_auc_ovr' for multi-class\n",
    "grid = GridSearchCV(DecisionTreeClassifier(), param_grid, cv=5, scoring='roc_auc_ovr')\n",
    "grid.fit(X_train, y_train)\n",
    "\n",
    "# Ensure y_train and y_test are one-dimensional\n",
    "y_train = y_train.ravel()\n",
    "y_test = y_test.ravel()\n",
    "\n",
    "# Display best parameters and ROC-AUC score\n",
    "print(f\"Best Parameters: {grid.best_params_}\")\n",
    "print(f\"Best ROC-AUC (CV): {grid.best_score_}\")\n",
    "\n",
    "# Evaluate on training set (using predict_proba for probabilities)\n",
    "train_probabilities = grid.predict_proba(X_train)\n",
    "train_roc_auc = roc_auc_score(y_train, train_probabilities, multi_class='ovr')\n",
    "print(f\"Training ROC-AUC: {train_roc_auc}\")\n",
    "\n",
    "# Evaluate on test set (using predict_proba for probabilities)\n",
    "test_probabilities = grid.predict_proba(X_test)\n",
    "test_roc_auc = roc_auc_score(y_test, test_probabilities, multi_class='ovr')\n",
    "print(f\"Test ROC-AUC: {test_roc_auc}\")\n"
   ],
   "outputs": [
    {
     "name": "stdout",
     "output_type": "stream",
     "text": [
      "Best Parameters: {'max_depth': 3, 'min_samples_split': 2, 'random_state': 42}\n",
      "Best ROC-AUC (CV): 0.9579016221873365\n",
      "Training ROC-AUC: 0.992580816110228\n",
      "Test ROC-AUC: 1.0\n"
     ]
    }
   ],
   "execution_count": 404
  },
  {
   "cell_type": "code",
   "metadata": {
    "ExecuteTime": {
     "end_time": "2025-01-21T14:17:09.669834Z",
     "start_time": "2025-01-21T14:16:56.344729Z"
    }
   },
   "source": [
    "from sklearn.ensemble import RandomForestClassifier\n",
    "\n",
    "# Second model - Random Forest\n",
    "param_grid_rf = {\n",
    "    'n_estimators': [100, 200],\n",
    "    'max_depth': [3, 5, 10, None],\n",
    "    'min_samples_split': [2, 5, 10],\n",
    "    'random_state': [42]\n",
    "}\n",
    "\n",
    "grid_rf = GridSearchCV(RandomForestClassifier(), param_grid_rf, cv=5, scoring='roc_auc_ovr')\n",
    "grid_rf.fit(X_train, y_train)\n",
    "\n",
    "# Display best parameters and ROC-AUC for Random Forest\n",
    "print(f\"Random Forest Best Parameters: {grid_rf.best_params_}\")\n",
    "print(f\"Random Forest Best ROC-AUC (CV): {grid_rf.best_score_}\")\n"
   ],
   "outputs": [
    {
     "name": "stdout",
     "output_type": "stream",
     "text": [
      "Random Forest Best Parameters: {'max_depth': 5, 'min_samples_split': 5, 'n_estimators': 200, 'random_state': 42}\n",
      "Random Forest Best ROC-AUC (CV): 0.9946755625327054\n"
     ]
    }
   ],
   "execution_count": 405
  },
  {
   "cell_type": "code",
   "metadata": {
    "ExecuteTime": {
     "end_time": "2025-01-21T14:17:09.743180Z",
     "start_time": "2025-01-21T14:17:09.738055Z"
    }
   },
   "source": [
    "from sklearn.model_selection import train_test_split\n",
    "\n",
    "# Split the data into training and testing sets\n",
    "X_train, X_test, y_train, y_test = train_test_split(X, y, test_size=0.2, random_state=42)\n"
   ],
   "outputs": [],
   "execution_count": 406
  },
  {
   "cell_type": "code",
   "metadata": {
    "ExecuteTime": {
     "end_time": "2025-01-21T14:17:09.941687Z",
     "start_time": "2025-01-21T14:17:09.808031Z"
    }
   },
   "source": [
    "import matplotlib.pyplot as plt\n",
    "from sklearn.metrics import roc_curve, roc_auc_score\n",
    "\n",
    "# Make sure to get the predicted probabilities for the Random Forest model\n",
    "y_prob_rf = grid_rf.best_estimator_.predict_proba(X_test)  # Predicted probabilities\n",
    "\n",
    "# Calculate ROC curve for the positive class (class '1' as the positive label)\n",
    "fpr, tpr, thresholds = roc_curve(y_test, y_prob_rf[:, 1], pos_label=1)\n",
    "\n",
    "# Plot ROC curve\n",
    "plt.figure(figsize=(8, 6))\n",
    "plt.plot(fpr, tpr, label=f'Random Forest (AUC = {roc_auc_score(y_test, y_prob_rf, multi_class=\"ovr\", average=\"macro\"):.2f})')\n",
    "plt.plot([0, 1], [0, 1], 'k--', label='Random Guess')\n",
    "plt.xlabel('False Positive Rate')\n",
    "plt.ylabel('True Positive Rate')\n",
    "plt.title('ROC Curve - Random Forest')\n",
    "plt.legend(loc='lower right')\n",
    "plt.show()\n"
   ],
   "outputs": [
    {
     "data": {
      "text/plain": [
       "<Figure size 800x600 with 1 Axes>"
      ],
      "image/png": "[encoded data removed]"
     },
     "metadata": {},
     "output_type": "display_data"
    }
   ],
   "execution_count": 407
  },
  {
   "cell_type": "code",
   "metadata": {
    "ExecuteTime": {
     "end_time": "2025-01-21T14:17:10.243811Z",
     "start_time": "2025-01-21T14:17:10.018159Z"
    }
   },
   "source": [
    "# Ensure the correct feature set is used (X_encoded or the set used by the models)\n",
    "importances_rf = grid_rf.best_estimator_.feature_importances_\n",
    "\n",
    "# If you are using X_encoded after one-hot encoding or transformations,\n",
    "# make sure to align the feature importance to the right feature set.\n",
    "# In case of mismatch, you can consider selecting the original features (before encoding).\n",
    "\n",
    "# For Random Forest model:\n",
    "feature_importance_rf = pd.Series(importances_rf, index=X_encoded.columns[:len(importances_rf)])\n",
    "print(feature_importance_rf)\n",
    "\n",
    "# Plot feature importance for Random Forest\n",
    "plt.figure(figsize=(10, 6))\n",
    "feature_importance_rf.sort_values(ascending=True).plot(kind='barh', color='skyblue')\n",
    "plt.title('Random Forest Feature Importance')\n",
    "plt.xlabel('Importance')\n",
    "plt.ylabel('Feature')\n",
    "plt.show()\n",
    "\n",
    "# For Decision Tree model:\n",
    "importances_dt = model_dt.feature_importances_\n",
    "\n",
    "# Again, ensure the feature importance corresponds to the correct feature set\n",
    "feature_importance_dt = pd.Series(importances_dt, index=X_encoded.columns[:len(importances_dt)])\n",
    "\n",
    "# Plot feature importance for Decision Tree\n",
    "plt.figure(figsize=(10, 6))\n",
    "feature_importance_dt.sort_values(ascending=True).plot(kind='barh', color='lightcoral')\n",
    "plt.title('Decision Tree Feature Importance')\n",
    "plt.xlabel('Importance')\n",
    "plt.ylabel('Feature')\n",
    "plt.show()\n"
   ],
   "outputs": [
    {
     "name": "stdout",
     "output_type": "stream",
     "text": [
      "id        0.101488\n",
      "Gender    0.031662\n",
      "Age       0.446643\n",
      "City      0.420207\n",
      "dtype: float64\n"
     ]
    },
    {
     "data": {
      "text/plain": [
       "<Figure size 1000x600 with 1 Axes>"
      ],
      "image/png": "[encoded data removed]"
     },
     "metadata": {},
     "output_type": "display_data"
    },
    {
     "data": {
      "text/plain": [
       "<Figure size 1000x600 with 1 Axes>"
      ],
      "image/png": "[encoded data removed]"
     },
     "metadata": {},
     "output_type": "display_data"
    }
   ],
   "execution_count": 408
  }
 ],
 "metadata": {
  "kernelspec": {
   "display_name": "Python 3",
   "language": "python",
   "name": "python3"
  },
  "language_info": {
   "codemirror_mode": {
    "name": "ipython",
    "version": 3
   },
   "file_extension": ".py",
   "mimetype": "text/x-python",
   "name": "python",
   "nbconvert_exporter": "python",
   "pygments_lexer": "ipython3",
   "version": "3.10.12"
  }
 },
 "nbformat": 4,
 "nbformat_minor": 2
}
