{
 "cells": [
  {
   "metadata": {
    "ExecuteTime": {
     "end_time": "2025-01-09T19:17:27.259613Z",
     "start_time": "2025-01-09T19:17:27.174171Z"
    }
   },
   "cell_type": "code",
   "source": [
    "import pandas as pd\n",
    "from sklearn.preprocessing import StandardScaler\n",
    "\n",
    "# Load the dataset\n",
    "data = pd.read_csv('C:/Users/KiuStudnet/PycharmProjects/Student_Depression_Analysis/data/Student_Depression_Dataset.csv')"
   ],
   "outputs": [],
   "execution_count": 105
  },
  {
   "metadata": {
    "ExecuteTime": {
     "end_time": "2025-01-09T19:17:27.301241Z",
     "start_time": "2025-01-09T19:17:27.271098Z"
    }
   },
   "cell_type": "code",
   "source": [
    "# Step 1: Inspect data\n",
    "print(\"Initial Dataset Information:\")\n",
    "print(data.info())\n",
    "print(data.head())"
   ],
   "outputs": [
    {
     "name": "stdout",
     "output_type": "stream",
     "text": [
      "Initial Dataset Information:\n",
      "<class 'pandas.core.frame.DataFrame'>\n",
      "RangeIndex: 27901 entries, 0 to 27900\n",
      "Data columns (total 18 columns):\n",
      " #   Column                                 Non-Null Count  Dtype  \n",
      "---  ------                                 --------------  -----  \n",
      " 0   id                                     27901 non-null  int64  \n",
      " 1   Gender                                 27901 non-null  object \n",
      " 2   Age                                    27901 non-null  float64\n",
      " 3   City                                   27901 non-null  object \n",
      " 4   Profession                             27901 non-null  object \n",
      " 5   Academic Pressure                      27901 non-null  float64\n",
      " 6   Work Pressure                          27901 non-null  float64\n",
      " 7   CGPA                                   27901 non-null  float64\n",
      " 8   Study Satisfaction                     27901 non-null  float64\n",
      " 9   Job Satisfaction                       27901 non-null  float64\n",
      " 10  Sleep Duration                         27901 non-null  object \n",
      " 11  Dietary Habits                         27901 non-null  object \n",
      " 12  Degree                                 27901 non-null  object \n",
      " 13  Have you ever had suicidal thoughts ?  27901 non-null  object \n",
      " 14  Work/Study Hours                       27901 non-null  float64\n",
      " 15  Financial Stress                       27898 non-null  float64\n",
      " 16  Family History of Mental Illness       27901 non-null  object \n",
      " 17  Depression                             27901 non-null  int64  \n",
      "dtypes: float64(8), int64(2), object(8)\n",
      "memory usage: 3.8+ MB\n",
      "None\n",
      "   id  Gender   Age           City Profession  Academic Pressure  \\\n",
      "0   2    Male  33.0  Visakhapatnam    Student                5.0   \n",
      "1   8  Female  24.0      Bangalore    Student                2.0   \n",
      "2  26    Male  31.0       Srinagar    Student                3.0   \n",
      "3  30  Female  28.0       Varanasi    Student                3.0   \n",
      "4  32  Female  25.0         Jaipur    Student                4.0   \n",
      "\n",
      "   Work Pressure  CGPA  Study Satisfaction  Job Satisfaction  \\\n",
      "0            0.0  8.97                 2.0               0.0   \n",
      "1            0.0  5.90                 5.0               0.0   \n",
      "2            0.0  7.03                 5.0               0.0   \n",
      "3            0.0  5.59                 2.0               0.0   \n",
      "4            0.0  8.13                 3.0               0.0   \n",
      "\n",
      "      Sleep Duration Dietary Habits   Degree  \\\n",
      "0          5-6 hours        Healthy  B.Pharm   \n",
      "1          5-6 hours       Moderate      BSc   \n",
      "2  Less than 5 hours        Healthy       BA   \n",
      "3          7-8 hours       Moderate      BCA   \n",
      "4          5-6 hours       Moderate   M.Tech   \n",
      "\n",
      "  Have you ever had suicidal thoughts ?  Work/Study Hours  Financial Stress  \\\n",
      "0                                   Yes               3.0               1.0   \n",
      "1                                    No               3.0               2.0   \n",
      "2                                    No               9.0               1.0   \n",
      "3                                   Yes               4.0               5.0   \n",
      "4                                   Yes               1.0               1.0   \n",
      "\n",
      "  Family History of Mental Illness  Depression  \n",
      "0                               No           1  \n",
      "1                              Yes           0  \n",
      "2                              Yes           0  \n",
      "3                              Yes           1  \n",
      "4                               No           0  \n"
     ]
    }
   ],
   "execution_count": 106
  },
  {
   "metadata": {
    "ExecuteTime": {
     "end_time": "2025-01-09T19:17:27.362342Z",
     "start_time": "2025-01-09T19:17:27.333153Z"
    }
   },
   "cell_type": "code",
   "source": [
    "# Step 2: Handle missing values\n",
    "# Check for missing values\n",
    "missing_values = data.isnull().sum()\n",
    "print(\"Columns with missing values:\")\n",
    "print(missing_values[missing_values > 0])\n",
    "\n",
    "# Fill missing values with the median (only 'Financial Stress' has missing values)\n",
    "data['Financial Stress'] = data['Financial Stress'].fillna(data['Financial Stress'].median())\n",
    "\n",
    "# Verify missing values have been resolved\n",
    "print(\"Remaining missing values:\", data.isnull().sum().sum())"
   ],
   "outputs": [
    {
     "name": "stdout",
     "output_type": "stream",
     "text": [
      "Columns with missing values:\n",
      "Financial Stress    3\n",
      "dtype: int64\n",
      "Remaining missing values: 0\n"
     ]
    }
   ],
   "execution_count": 107
  },
  {
   "metadata": {
    "ExecuteTime": {
     "end_time": "2025-01-09T19:17:27.475573Z",
     "start_time": "2025-01-09T19:17:27.420168Z"
    }
   },
   "cell_type": "code",
   "source": [
    "from sklearn.preprocessing import LabelEncoder\n",
    "\n",
    "# Step 3: Encode non-numeric columns\n",
    "# 3.1. Label Encoding for City\n",
    "city_encoder = LabelEncoder()\n",
    "data['City'] = city_encoder.fit_transform(data['City'])\n",
    "city_mapping = dict(zip(city_encoder.classes_, range(len(city_encoder.classes_))))\n",
    "print(\"City Mapping:\", city_mapping)\n",
    "\n",
    "# 3.2. Label Encoding for Profession\n",
    "profession_encoder = LabelEncoder()\n",
    "data['Profession'] = profession_encoder.fit_transform(data['Profession'])\n",
    "profession_mapping = dict(zip(profession_encoder.classes_, range(len(profession_encoder.classes_))))\n",
    "print(\"Profession Mapping:\", profession_mapping)\n",
    "\n",
    "# 3.3. Ordinal Encoding for Sleep Duration\n",
    "sleep_order = {'Less than 5 hours': 1, '5-6 hours': 2, '7-8 hours': 3, 'More than 8 hours': 4}\n",
    "data['Sleep Duration'] = data['Sleep Duration'].map(sleep_order)\n",
    "print(\"Sleep Duration Mapping:\", sleep_order)\n",
    "\n",
    "# 3.4. Label Encoding for Degree\n",
    "degree_encoder = LabelEncoder()\n",
    "data['Degree'] = degree_encoder.fit_transform(data['Degree'])\n",
    "degree_mapping = dict(zip(degree_encoder.classes_, range(len(degree_encoder.classes_))))\n",
    "print(\"Degree Mapping:\", degree_mapping)\n",
    "\n",
    "# 3.5. Binary Encoding for 'Have you ever had suicidal thoughts ?'\n",
    "data['Have you ever had suicidal thoughts ?'] = data['Have you ever had suicidal thoughts ?'].map({'No': 0, 'Yes': 1})\n",
    "print(\"Suicidal Thoughts Mapping: {'No': 0, 'Yes': 1}\")\n",
    "\n",
    "# 3.6. Binary Encoding for Gender\n",
    "data['Gender'] = data['Gender'].map({'Male': 0, 'Female': 1})\n",
    "print(\"Gender Mapping: {'Male': 0, 'Female': 1}\")\n",
    "\n",
    "# 3.7. Label Encoding for Dietary Habits\n",
    "dietary_encoder = LabelEncoder()\n",
    "data['Dietary Habits'] = dietary_encoder.fit_transform(data['Dietary Habits'])\n",
    "dietary_mapping = dict(zip(dietary_encoder.classes_, range(len(dietary_encoder.classes_))))\n",
    "print(\"Dietary Habits Mapping:\", dietary_mapping)\n",
    "\n",
    "# 3.8. Binary Encoding for Family History of Mental Illness\n",
    "data['Family History of Mental Illness'] = data['Family History of Mental Illness'].map({'No': 0, 'Yes': 1})\n",
    "print(\"Family History Mapping: {'No': 0, 'Yes': 1}\")\n",
    "\n",
    "\n",
    "# Verify all columns are numeric\n",
    "print(\"Post-Encoding Dataset Information:\")\n",
    "print(data.info())"
   ],
   "outputs": [
    {
     "name": "stdout",
     "output_type": "stream",
     "text": [
      "City Mapping: {'3.0': 0, 'Agra': 1, 'Ahmedabad': 2, 'Bangalore': 3, 'Bhavna': 4, 'Bhopal': 5, 'Chennai': 6, 'City': 7, 'Delhi': 8, 'Faridabad': 9, 'Gaurav': 10, 'Ghaziabad': 11, 'Harsh': 12, 'Harsha': 13, 'Hyderabad': 14, 'Indore': 15, 'Jaipur': 16, 'Kalyan': 17, 'Kanpur': 18, 'Khaziabad': 19, 'Kibara': 20, 'Kolkata': 21, 'Less Delhi': 22, 'Less than 5 Kalyan': 23, 'Lucknow': 24, 'Ludhiana': 25, 'M.Com': 26, 'M.Tech': 27, 'ME': 28, 'Meerut': 29, 'Mihir': 30, 'Mira': 31, 'Mumbai': 32, 'Nagpur': 33, 'Nalini': 34, 'Nalyan': 35, 'Nandini': 36, 'Nashik': 37, 'Patna': 38, 'Pune': 39, 'Rajkot': 40, 'Rashi': 41, 'Reyansh': 42, 'Saanvi': 43, 'Srinagar': 44, 'Surat': 45, 'Thane': 46, 'Vaanya': 47, 'Vadodara': 48, 'Varanasi': 49, 'Vasai-Virar': 50, 'Visakhapatnam': 51}\n",
      "Profession Mapping: {'Architect': 0, 'Chef': 1, 'Civil Engineer': 2, 'Content Writer': 3, 'Digital Marketer': 4, 'Doctor': 5, 'Educational Consultant': 6, 'Entrepreneur': 7, 'Lawyer': 8, 'Manager': 9, 'Pharmacist': 10, 'Student': 11, 'Teacher': 12, 'UX/UI Designer': 13}\n",
      "Sleep Duration Mapping: {'Less than 5 hours': 1, '5-6 hours': 2, '7-8 hours': 3, 'More than 8 hours': 4}\n",
      "Degree Mapping: {'B.Arch': 0, 'B.Com': 1, 'B.Ed': 2, 'B.Pharm': 3, 'B.Tech': 4, 'BA': 5, 'BBA': 6, 'BCA': 7, 'BE': 8, 'BHM': 9, 'BSc': 10, 'Class 12': 11, 'LLB': 12, 'LLM': 13, 'M.Com': 14, 'M.Ed': 15, 'M.Pharm': 16, 'M.Tech': 17, 'MA': 18, 'MBA': 19, 'MBBS': 20, 'MCA': 21, 'MD': 22, 'ME': 23, 'MHM': 24, 'MSc': 25, 'Others': 26, 'PhD': 27}\n",
      "Suicidal Thoughts Mapping: {'No': 0, 'Yes': 1}\n",
      "Gender Mapping: {'Male': 0, 'Female': 1}\n",
      "Dietary Habits Mapping: {'Healthy': 0, 'Moderate': 1, 'Others': 2, 'Unhealthy': 3}\n",
      "Family History Mapping: {'No': 0, 'Yes': 1}\n",
      "Post-Encoding Dataset Information:\n",
      "<class 'pandas.core.frame.DataFrame'>\n",
      "RangeIndex: 27901 entries, 0 to 27900\n",
      "Data columns (total 18 columns):\n",
      " #   Column                                 Non-Null Count  Dtype  \n",
      "---  ------                                 --------------  -----  \n",
      " 0   id                                     27901 non-null  int64  \n",
      " 1   Gender                                 27901 non-null  int64  \n",
      " 2   Age                                    27901 non-null  float64\n",
      " 3   City                                   27901 non-null  int64  \n",
      " 4   Profession                             27901 non-null  int64  \n",
      " 5   Academic Pressure                      27901 non-null  float64\n",
      " 6   Work Pressure                          27901 non-null  float64\n",
      " 7   CGPA                                   27901 non-null  float64\n",
      " 8   Study Satisfaction                     27901 non-null  float64\n",
      " 9   Job Satisfaction                       27901 non-null  float64\n",
      " 10  Sleep Duration                         27883 non-null  float64\n",
      " 11  Dietary Habits                         27901 non-null  int64  \n",
      " 12  Degree                                 27901 non-null  int64  \n",
      " 13  Have you ever had suicidal thoughts ?  27901 non-null  int64  \n",
      " 14  Work/Study Hours                       27901 non-null  float64\n",
      " 15  Financial Stress                       27901 non-null  float64\n",
      " 16  Family History of Mental Illness       27901 non-null  int64  \n",
      " 17  Depression                             27901 non-null  int64  \n",
      "dtypes: float64(9), int64(9)\n",
      "memory usage: 3.8 MB\n",
      "None\n"
     ]
    }
   ],
   "execution_count": 108
  },
  {
   "metadata": {
    "ExecuteTime": {
     "end_time": "2025-01-09T19:17:27.567550Z",
     "start_time": "2025-01-09T19:17:27.561265Z"
    }
   },
   "cell_type": "code",
   "source": [
    "# Step 4: Standardize numerical columns\n",
    "# Identify numerical columns\n",
    "# numerical_cols = data.select_dtypes(include=['float64']).columns\n",
    "# print(\"Numerical Columns to Standardize:\", numerical_cols)\n",
    "# \n",
    "# # Standardize using StandardScaler\n",
    "# scaler = StandardScaler()\n",
    "# data[numerical_cols] = scaler.fit_transform(data[numerical_cols])\n"
   ],
   "outputs": [],
   "execution_count": 109
  },
  {
   "metadata": {
    "ExecuteTime": {
     "end_time": "2025-01-09T19:17:27.738079Z",
     "start_time": "2025-01-09T19:17:27.649148Z"
    }
   },
   "cell_type": "code",
   "source": [
    "    # Step 5: Final Check\n",
    "print(\"Final Dataset Information:\")\n",
    "print(data.info())\n",
    "print(data.describe())"
   ],
   "outputs": [
    {
     "name": "stdout",
     "output_type": "stream",
     "text": [
      "Final Dataset Information:\n",
      "<class 'pandas.core.frame.DataFrame'>\n",
      "RangeIndex: 27901 entries, 0 to 27900\n",
      "Data columns (total 18 columns):\n",
      " #   Column                                 Non-Null Count  Dtype  \n",
      "---  ------                                 --------------  -----  \n",
      " 0   id                                     27901 non-null  int64  \n",
      " 1   Gender                                 27901 non-null  int64  \n",
      " 2   Age                                    27901 non-null  float64\n",
      " 3   City                                   27901 non-null  int64  \n",
      " 4   Profession                             27901 non-null  int64  \n",
      " 5   Academic Pressure                      27901 non-null  float64\n",
      " 6   Work Pressure                          27901 non-null  float64\n",
      " 7   CGPA                                   27901 non-null  float64\n",
      " 8   Study Satisfaction                     27901 non-null  float64\n",
      " 9   Job Satisfaction                       27901 non-null  float64\n",
      " 10  Sleep Duration                         27883 non-null  float64\n",
      " 11  Dietary Habits                         27901 non-null  int64  \n",
      " 12  Degree                                 27901 non-null  int64  \n",
      " 13  Have you ever had suicidal thoughts ?  27901 non-null  int64  \n",
      " 14  Work/Study Hours                       27901 non-null  float64\n",
      " 15  Financial Stress                       27901 non-null  float64\n",
      " 16  Family History of Mental Illness       27901 non-null  int64  \n",
      " 17  Depression                             27901 non-null  int64  \n",
      "dtypes: float64(9), int64(9)\n",
      "memory usage: 3.8 MB\n",
      "None\n",
      "                  id        Gender           Age          City    Profession  \\\n",
      "count   27901.000000  27901.000000  27901.000000  27901.000000  27901.000000   \n",
      "mean    70442.149421      0.442780     25.822300     26.294291     10.993764   \n",
      "std     40641.175216      0.496724      4.905687     16.356033      0.243990   \n",
      "min         2.000000      0.000000     18.000000      0.000000      0.000000   \n",
      "25%     35039.000000      0.000000     21.000000     14.000000     11.000000   \n",
      "50%     70684.000000      0.000000     25.000000     24.000000     11.000000   \n",
      "75%    105818.000000      1.000000     30.000000     44.000000     11.000000   \n",
      "max    140699.000000      1.000000     59.000000     51.000000     13.000000   \n",
      "\n",
      "       Academic Pressure  Work Pressure          CGPA  Study Satisfaction  \\\n",
      "count       27901.000000   27901.000000  27901.000000        27901.000000   \n",
      "mean            3.141214       0.000430      7.656104            2.943837   \n",
      "std             1.381465       0.043992      1.470707            1.361148   \n",
      "min             0.000000       0.000000      0.000000            0.000000   \n",
      "25%             2.000000       0.000000      6.290000            2.000000   \n",
      "50%             3.000000       0.000000      7.770000            3.000000   \n",
      "75%             4.000000       0.000000      8.920000            4.000000   \n",
      "max             5.000000       5.000000     10.000000            5.000000   \n",
      "\n",
      "       Job Satisfaction  Sleep Duration  Dietary Habits        Degree  \\\n",
      "count      27901.000000    27883.000000    27901.000000  27901.000000   \n",
      "mean           0.000681        2.398953        1.465754     10.915738   \n",
      "std            0.044394        1.126687        1.239704      7.235785   \n",
      "min            0.000000        1.000000        0.000000      0.000000   \n",
      "25%            0.000000        1.000000        0.000000      5.000000   \n",
      "50%            0.000000        2.000000        1.000000     11.000000   \n",
      "75%            0.000000        3.000000        3.000000     16.000000   \n",
      "max            4.000000        4.000000        3.000000     27.000000   \n",
      "\n",
      "       Have you ever had suicidal thoughts ?  Work/Study Hours  \\\n",
      "count                           27901.000000      27901.000000   \n",
      "mean                                0.632809          7.156984   \n",
      "std                                 0.482048          3.707642   \n",
      "min                                 0.000000          0.000000   \n",
      "25%                                 0.000000          4.000000   \n",
      "50%                                 1.000000          8.000000   \n",
      "75%                                 1.000000         10.000000   \n",
      "max                                 1.000000         12.000000   \n",
      "\n",
      "       Financial Stress  Family History of Mental Illness    Depression  \n",
      "count      27901.000000                      27901.000000  27901.000000  \n",
      "mean           3.139852                          0.483961      0.585499  \n",
      "std            1.437270                          0.499752      0.492645  \n",
      "min            1.000000                          0.000000      0.000000  \n",
      "25%            2.000000                          0.000000      0.000000  \n",
      "50%            3.000000                          0.000000      1.000000  \n",
      "75%            4.000000                          1.000000      1.000000  \n",
      "max            5.000000                          1.000000      1.000000  \n"
     ]
    }
   ],
   "execution_count": 110
  },
  {
   "metadata": {
    "ExecuteTime": {
     "end_time": "2025-01-09T19:17:27.770438Z",
     "start_time": "2025-01-09T19:17:27.762750Z"
    }
   },
   "cell_type": "code",
   "source": [
    "remaining_cols = data.select_dtypes(include=['object']).columns\n",
    "print(\"Remaining Non-Numeric Columns (if any):\", remaining_cols)\n"
   ],
   "outputs": [
    {
     "name": "stdout",
     "output_type": "stream",
     "text": [
      "Remaining Non-Numeric Columns (if any): Index([], dtype='object')\n"
     ]
    }
   ],
   "execution_count": 111
  },
  {
   "metadata": {
    "ExecuteTime": {
     "end_time": "2025-01-09T19:17:28.013782Z",
     "start_time": "2025-01-09T19:17:27.797988Z"
    }
   },
   "cell_type": "code",
   "source": "data.to_csv('../data/processed_student_depression.csv', index=False)\n",
   "outputs": [],
   "execution_count": 112
  }
 ],
 "metadata": {
  "kernelspec": {
   "display_name": "Python 3",
   "language": "python",
   "name": "python3"
  },
  "language_info": {
   "codemirror_mode": {
    "name": "ipython",
    "version": 3
   },
   "file_extension": ".py",
   "mimetype": "text/x-python",
   "name": "python",
   "nbconvert_exporter": "python",
   "pygments_lexer": "ipython3",
   "version": "3.10.12"
  }
 },
 "nbformat": 4,
 "nbformat_minor": 2
}
