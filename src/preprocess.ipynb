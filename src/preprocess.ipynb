{
 "cells": [
  {
   "metadata": {
    "ExecuteTime": {
     "end_time": "2025-01-09T18:53:17.402368Z",
     "start_time": "2025-01-09T18:53:17.097160Z"
    }
   },
   "cell_type": "code",
   "source": [
    "import pandas as pd\n",
    "from sklearn.preprocessing import StandardScaler\n",
    "\n",
    "# Load the dataset\n",
    "data = pd.read_csv('C:/Users/KiuStudnet/PycharmProjects/Student_Depression_Analysis/data/Student_Depression_Dataset.csv')"
   ],
   "outputs": [],
   "execution_count": 72
  },
  {
   "metadata": {
    "ExecuteTime": {
     "end_time": "2025-01-09T18:53:24.860416Z",
     "start_time": "2025-01-09T18:53:24.789692Z"
    }
   },
   "cell_type": "code",
   "source": [
    "# Step 1: Inspect data\n",
    "print(\"Initial Dataset Information:\")\n",
    "print(data.info())\n",
    "print(data.head())"
   ],
   "outputs": [
    {
     "name": "stdout",
     "output_type": "stream",
     "text": [
      "Initial Dataset Information:\n",
      "<class 'pandas.core.frame.DataFrame'>\n",
      "RangeIndex: 27901 entries, 0 to 27900\n",
      "Data columns (total 18 columns):\n",
      " #   Column                                 Non-Null Count  Dtype  \n",
      "---  ------                                 --------------  -----  \n",
      " 0   id                                     27901 non-null  int64  \n",
      " 1   Gender                                 27901 non-null  object \n",
      " 2   Age                                    27901 non-null  float64\n",
      " 3   City                                   27901 non-null  object \n",
      " 4   Profession                             27901 non-null  object \n",
      " 5   Academic Pressure                      27901 non-null  float64\n",
      " 6   Work Pressure                          27901 non-null  float64\n",
      " 7   CGPA                                   27901 non-null  float64\n",
      " 8   Study Satisfaction                     27901 non-null  float64\n",
      " 9   Job Satisfaction                       27901 non-null  float64\n",
      " 10  Sleep Duration                         27901 non-null  object \n",
      " 11  Dietary Habits                         27901 non-null  object \n",
      " 12  Degree                                 27901 non-null  object \n",
      " 13  Have you ever had suicidal thoughts ?  27901 non-null  object \n",
      " 14  Work/Study Hours                       27901 non-null  float64\n",
      " 15  Financial Stress                       27898 non-null  float64\n",
      " 16  Family History of Mental Illness       27901 non-null  object \n",
      " 17  Depression                             27901 non-null  int64  \n",
      "dtypes: float64(8), int64(2), object(8)\n",
      "memory usage: 3.8+ MB\n",
      "None\n",
      "   id  Gender   Age           City Profession  Academic Pressure  \\\n",
      "0   2    Male  33.0  Visakhapatnam    Student                5.0   \n",
      "1   8  Female  24.0      Bangalore    Student                2.0   \n",
      "2  26    Male  31.0       Srinagar    Student                3.0   \n",
      "3  30  Female  28.0       Varanasi    Student                3.0   \n",
      "4  32  Female  25.0         Jaipur    Student                4.0   \n",
      "\n",
      "   Work Pressure  CGPA  Study Satisfaction  Job Satisfaction  \\\n",
      "0            0.0  8.97                 2.0               0.0   \n",
      "1            0.0  5.90                 5.0               0.0   \n",
      "2            0.0  7.03                 5.0               0.0   \n",
      "3            0.0  5.59                 2.0               0.0   \n",
      "4            0.0  8.13                 3.0               0.0   \n",
      "\n",
      "      Sleep Duration Dietary Habits   Degree  \\\n",
      "0          5-6 hours        Healthy  B.Pharm   \n",
      "1          5-6 hours       Moderate      BSc   \n",
      "2  Less than 5 hours        Healthy       BA   \n",
      "3          7-8 hours       Moderate      BCA   \n",
      "4          5-6 hours       Moderate   M.Tech   \n",
      "\n",
      "  Have you ever had suicidal thoughts ?  Work/Study Hours  Financial Stress  \\\n",
      "0                                   Yes               3.0               1.0   \n",
      "1                                    No               3.0               2.0   \n",
      "2                                    No               9.0               1.0   \n",
      "3                                   Yes               4.0               5.0   \n",
      "4                                   Yes               1.0               1.0   \n",
      "\n",
      "  Family History of Mental Illness  Depression  \n",
      "0                               No           1  \n",
      "1                              Yes           0  \n",
      "2                              Yes           0  \n",
      "3                              Yes           1  \n",
      "4                               No           0  \n"
     ]
    }
   ],
   "execution_count": 73
  },
  {
   "metadata": {
    "ExecuteTime": {
     "end_time": "2025-01-09T18:53:36.756723Z",
     "start_time": "2025-01-09T18:53:36.670788Z"
    }
   },
   "cell_type": "code",
   "source": [
    "# Step 2: Handle missing values\n",
    "# Check for missing values\n",
    "missing_values = data.isnull().sum()\n",
    "print(\"Columns with missing values:\")\n",
    "print(missing_values[missing_values > 0])\n",
    "\n",
    "# Fill missing values with the median (only 'Financial Stress' has missing values)\n",
    "data['Financial Stress'] = data['Financial Stress'].fillna(data['Financial Stress'].median())\n",
    "\n",
    "# Verify missing values have been resolved\n",
    "print(\"Remaining missing values:\", data.isnull().sum().sum())"
   ],
   "outputs": [
    {
     "name": "stdout",
     "output_type": "stream",
     "text": [
      "Columns with missing values:\n",
      "Financial Stress    3\n",
      "dtype: int64\n",
      "Remaining missing values: 0\n"
     ]
    }
   ],
   "execution_count": 74
  },
  {
   "metadata": {
    "ExecuteTime": {
     "end_time": "2025-01-09T18:53:44.987418Z",
     "start_time": "2025-01-09T18:53:44.844795Z"
    }
   },
   "cell_type": "code",
   "source": [
    "# Step 3: Encode non-numeric columns\n",
    "# Columns detected earlier: ['City', 'Profession', 'Sleep Duration', 'Degree', 'Have you ever had suicidal thoughts ?']\n",
    "# 3.1. One-Hot Encoding for 'City' and 'Profession'\n",
    "data = pd.get_dummies(data, columns=['City', 'Profession'], drop_first=True)\n",
    "\n",
    "# 3.2. Ordinal Encoding for 'Sleep Duration'\n",
    "sleep_order = {'Less than 5 hours': 1, '5-6 hours': 2, '7-8 hours': 3, 'More than 8 hours': 4}\n",
    "data['Sleep Duration'] = data['Sleep Duration'].map(sleep_order)\n",
    "\n",
    "# 3.3. One-Hot Encoding for 'Degree'\n",
    "data = pd.get_dummies(data, columns=['Degree'], drop_first=True)\n",
    "\n",
    "# 3.4. Binary Encoding for 'Have you ever had suicidal thoughts ?'\n",
    "data['Have you ever had suicidal thoughts ?'] = data['Have you ever had suicidal thoughts ?'].map({'No': 0, 'Yes': 1})\n",
    "\n",
    "# Binary encoding for Gender\n",
    "data['Gender'] = data['Gender'].map({'Male': 0, 'Female': 1})\n",
    "\n",
    "# One-hot encoding for Dietary Habits\n",
    "data = pd.get_dummies(data, columns=['Dietary Habits'], drop_first=True)\n",
    "\n",
    "# Binary encoding for Family History of Mental Illness\n",
    "data['Family History of Mental Illness'] = data['Family History of Mental Illness'].map({'No': 0, 'Yes': 1})\n",
    "\n",
    "\n",
    "# Verify all columns are numeric\n",
    "print(\"Post-Encoding Dataset Information:\")\n",
    "print(data.info())"
   ],
   "outputs": [
    {
     "name": "stdout",
     "output_type": "stream",
     "text": [
      "Post-Encoding Dataset Information:\n",
      "<class 'pandas.core.frame.DataFrame'>\n",
      "RangeIndex: 27901 entries, 0 to 27900\n",
      "Columns: 108 entries, id to Dietary Habits_Unhealthy\n",
      "dtypes: bool(94), float64(9), int64(5)\n",
      "memory usage: 5.5 MB\n",
      "None\n"
     ]
    }
   ],
   "execution_count": 75
  },
  {
   "metadata": {
    "ExecuteTime": {
     "end_time": "2025-01-09T18:53:54.872542Z",
     "start_time": "2025-01-09T18:53:54.795127Z"
    }
   },
   "cell_type": "code",
   "source": [
    "# Step 4: Standardize numerical columns\n",
    "# Identify numerical columns\n",
    "numerical_cols = data.select_dtypes(include=['float64']).columns\n",
    "print(\"Numerical Columns to Standardize:\", numerical_cols)\n",
    "\n",
    "# Standardize using StandardScaler\n",
    "scaler = StandardScaler()\n",
    "data[numerical_cols] = scaler.fit_transform(data[numerical_cols])\n"
   ],
   "outputs": [
    {
     "name": "stdout",
     "output_type": "stream",
     "text": [
      "Numerical Columns to Standardize: Index(['Age', 'Academic Pressure', 'Work Pressure', 'CGPA',\n",
      "       'Study Satisfaction', 'Job Satisfaction', 'Sleep Duration',\n",
      "       'Work/Study Hours', 'Financial Stress'],\n",
      "      dtype='object')\n"
     ]
    }
   ],
   "execution_count": 76
  },
  {
   "metadata": {
    "ExecuteTime": {
     "end_time": "2025-01-09T18:54:03.369573Z",
     "start_time": "2025-01-09T18:54:03.248697Z"
    }
   },
   "cell_type": "code",
   "source": [
    "    # Step 5: Final Check\n",
    "print(\"Final Dataset Information:\")\n",
    "print(data.info())\n",
    "print(data.describe())"
   ],
   "outputs": [
    {
     "name": "stdout",
     "output_type": "stream",
     "text": [
      "Final Dataset Information:\n",
      "<class 'pandas.core.frame.DataFrame'>\n",
      "RangeIndex: 27901 entries, 0 to 27900\n",
      "Columns: 108 entries, id to Dietary Habits_Unhealthy\n",
      "dtypes: bool(94), float64(9), int64(5)\n",
      "memory usage: 5.5 MB\n",
      "None\n",
      "                  id        Gender           Age  Academic Pressure  \\\n",
      "count   27901.000000  27901.000000  2.790100e+04       2.790100e+04   \n",
      "mean    70442.149421      0.442780  1.739367e-16       1.871793e-17   \n",
      "std     40641.175216      0.496724  1.000018e+00       1.000018e+00   \n",
      "min         2.000000      0.000000 -1.594566e+00      -2.273869e+00   \n",
      "25%     35039.000000      0.000000 -9.830196e-01      -8.261043e-01   \n",
      "50%     70684.000000      0.000000 -1.676248e-01      -1.022220e-01   \n",
      "75%    105818.000000      1.000000  8.516186e-01       6.216603e-01   \n",
      "max    140699.000000      1.000000  6.763230e+00       1.345543e+00   \n",
      "\n",
      "       Work Pressure          CGPA  Study Satisfaction  Job Satisfaction  \\\n",
      "count   2.790100e+04  2.790100e+04        2.790100e+04      2.790100e+04   \n",
      "mean   -2.037326e-18  4.008438e-16        4.456650e-18      9.167965e-18   \n",
      "std     1.000018e+00  1.000018e+00        1.000018e+00      1.000018e+00   \n",
      "min    -9.776766e-03 -5.205822e+00       -2.162799e+00     -1.533958e-02   \n",
      "25%    -9.776766e-03 -9.288922e-01       -6.934250e-01     -1.533958e-02   \n",
      "50%    -9.776766e-03  7.744428e-02        4.126213e-02     -1.533958e-02   \n",
      "75%    -9.776766e-03  8.593950e-01        7.759493e-01     -1.533958e-02   \n",
      "max     1.136492e+02  1.593749e+00        1.510636e+00      9.008774e+01   \n",
      "\n",
      "       Sleep Duration  Have you ever had suicidal thoughts ?  \\\n",
      "count    2.788300e+04                           27901.000000   \n",
      "mean     1.416855e-16                               0.632809   \n",
      "std      1.000018e+00                               0.482048   \n",
      "min     -1.241674e+00                               0.000000   \n",
      "25%     -1.241674e+00                               0.000000   \n",
      "50%     -3.541001e-01                               1.000000   \n",
      "75%      5.334740e-01                               1.000000   \n",
      "max      1.421048e+00                               1.000000   \n",
      "\n",
      "       Work/Study Hours  Financial Stress  Family History of Mental Illness  \\\n",
      "count      2.790100e+04      2.790100e+04                      27901.000000   \n",
      "mean       4.876848e-17     -6.926907e-17                          0.483961   \n",
      "std        1.000018e+00      1.000018e+00                          0.499752   \n",
      "min       -1.930368e+00     -1.488857e+00                          0.000000   \n",
      "25%       -8.514954e-01     -7.930813e-01                          0.000000   \n",
      "50%        2.273767e-01     -9.730538e-02                          0.000000   \n",
      "75%        7.668128e-01      5.984705e-01                          1.000000   \n",
      "max        1.306249e+00      1.294246e+00                          1.000000   \n",
      "\n",
      "         Depression  \n",
      "count  27901.000000  \n",
      "mean       0.585499  \n",
      "std        0.492645  \n",
      "min        0.000000  \n",
      "25%        0.000000  \n",
      "50%        1.000000  \n",
      "75%        1.000000  \n",
      "max        1.000000  \n"
     ]
    }
   ],
   "execution_count": 77
  },
  {
   "metadata": {
    "ExecuteTime": {
     "end_time": "2025-01-09T18:54:13.665156Z",
     "start_time": "2025-01-09T18:54:13.656129Z"
    }
   },
   "cell_type": "code",
   "source": [
    "remaining_cols = data.select_dtypes(include=['object']).columns\n",
    "print(\"Remaining Non-Numeric Columns (if any):\", remaining_cols)\n"
   ],
   "outputs": [
    {
     "name": "stdout",
     "output_type": "stream",
     "text": [
      "Remaining Non-Numeric Columns (if any): Index([], dtype='object')\n"
     ]
    }
   ],
   "execution_count": 78
  },
  {
   "metadata": {
    "ExecuteTime": {
     "end_time": "2025-01-09T18:55:20.651850Z",
     "start_time": "2025-01-09T18:55:19.823780Z"
    }
   },
   "cell_type": "code",
   "source": "data.to_csv('../data/processed_student_depression.csv', index=False)\n",
   "outputs": [],
   "execution_count": 80
  }
 ],
 "metadata": {
  "kernelspec": {
   "display_name": "Python 3",
   "language": "python",
   "name": "python3"
  },
  "language_info": {
   "codemirror_mode": {
    "name": "ipython",
    "version": 3
   },
   "file_extension": ".py",
   "mimetype": "text/x-python",
   "name": "python",
   "nbconvert_exporter": "python",
   "pygments_lexer": "ipython3",
   "version": "3.10.12"
  }
 },
 "nbformat": 4,
 "nbformat_minor": 2
}
